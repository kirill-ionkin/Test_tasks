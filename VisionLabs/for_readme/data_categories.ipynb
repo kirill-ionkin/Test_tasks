{
 "cells": [
  {
   "cell_type": "code",
   "execution_count": 9,
   "id": "5afb6874",
   "metadata": {},
   "outputs": [],
   "source": [
    "import os\n",
    "import platform"
   ]
  },
  {
   "cell_type": "code",
   "execution_count": 2,
   "id": "7bb0f715",
   "metadata": {},
   "outputs": [],
   "source": [
    "import numpy as np\n",
    "\n",
    "import matplotlib.pyplot as plt\n",
    "import seaborn as sns\n",
    "\n",
    "plt.rcParams[\"figure.figsize\"] = (15, 10)\n",
    "%matplotlib inline"
   ]
  },
  {
   "cell_type": "code",
   "execution_count": 3,
   "id": "4da6a74d",
   "metadata": {},
   "outputs": [],
   "source": [
    "import PIL\n",
    "from PIL import Image"
   ]
  },
  {
   "cell_type": "code",
   "execution_count": 23,
   "id": "f1ffa3c5",
   "metadata": {},
   "outputs": [],
   "source": [
    "PLOTS_SAVE = \"\"\n",
    "\n",
    "if platform.system() == \"Linux\":\n",
    "    DATASET_ROOT = \"../data/EyesDataset\"\n",
    "else:\n",
    "    DATASET_ROOT = \"..\\\\data\\\\EyesDataset\""
   ]
  },
  {
   "cell_type": "code",
   "execution_count": null,
   "id": "7c930337",
   "metadata": {},
   "outputs": [],
   "source": []
  },
  {
   "cell_type": "code",
   "execution_count": null,
   "id": "85a34c9a",
   "metadata": {},
   "outputs": [],
   "source": []
  },
  {
   "cell_type": "code",
   "execution_count": 14,
   "id": "fb35ffdc",
   "metadata": {},
   "outputs": [],
   "source": [
    "def create_names(examples):\n",
    "    names = []\n",
    "    for example in examples:\n",
    "        example = str(example)\n",
    "        names.append(\"0\"*(6 - len(example)) + example + \".jpg\")\n",
    "    return names"
   ]
  },
  {
   "cell_type": "code",
   "execution_count": 50,
   "id": "4a16312d",
   "metadata": {},
   "outputs": [],
   "source": [
    "def create_collage(\n",
    "    path_to_folder,\n",
    "    list_of_images,\n",
    "    path_to_save,\n",
    "    save_name,\n",
    "    n_rows=4,\n",
    "    n_cols=11,\n",
    "    img_size=24\n",
    "):\n",
    "    list_of_images_path = [\n",
    "        os.path.join(path_to_folder, image) for image in list_of_images\n",
    "    ]\n",
    "    list_of_images_path_choice = np.random.choice(list_of_images_path, size=n_rows*n_cols, replace=False)\n",
    "    \n",
    "    all_img_width = img_size * n_cols\n",
    "    all_img_height = img_size * n_rows\n",
    "\n",
    "    collage_img = Image.new(mode=\"RGB\", size=(all_img_width, all_img_height))\n",
    "\n",
    "    images = []\n",
    "    for path in list_of_images_path:\n",
    "        img = Image.open(path).convert(\"RGB\")\n",
    "        img.thumbnail((img_size, img_size))\n",
    "        images.append(img)\n",
    "\n",
    "    i = 0\n",
    "    x = 0\n",
    "    y = 0\n",
    "    for row in range(n_rows):\n",
    "        for col in range(n_cols):\n",
    "\n",
    "            collage_img.paste(images[i], (x, y))\n",
    "            i += 1\n",
    "            x += img_size\n",
    "        y += img_size\n",
    "        x = 0\n",
    "\n",
    "    collage_img.save(os.path.join(path_to_save, save_name))"
   ]
  },
  {
   "cell_type": "code",
   "execution_count": 52,
   "id": "918ffd8d",
   "metadata": {},
   "outputs": [],
   "source": []
  },
  {
   "cell_type": "code",
   "execution_count": 53,
   "id": "e88af1ba",
   "metadata": {},
   "outputs": [
    {
     "name": "stdout",
     "output_type": "stream",
     "text": [
      "33\n"
     ]
    }
   ],
   "source": [
    "# плохие примеры\n",
    "\n",
    "bad_examples = [55, 65, 91, 162, 167, 184, 274, 339, 363,\n",
    "                381, 526, 549, 587, 594, 644, 658, 726, 790,\n",
    "                998, 1050, 1059, 1207, 1251, 1276, 1577,\n",
    "                1664, 1738, 1899, 2265, 2628, 2721, 2726, 3893]\n",
    "bad_names = create_names(bad_examples)\n",
    "print(len(bad_names))"
   ]
  },
  {
   "cell_type": "code",
   "execution_count": 54,
   "id": "7e1eabed",
   "metadata": {},
   "outputs": [],
   "source": [
    "create_collage(path_to_folder=DATASET_ROOT,\n",
    "               list_of_images=bad_names,\n",
    "               path_to_save=PLOTS_SAVE,\n",
    "               save_name=\"bad_examples.png\",\n",
    "               n_rows=5,\n",
    "               n_cols=5)"
   ]
  },
  {
   "cell_type": "code",
   "execution_count": 55,
   "id": "dba90ba4",
   "metadata": {},
   "outputs": [
    {
     "name": "stdout",
     "output_type": "stream",
     "text": [
      "57\n"
     ]
    }
   ],
   "source": [
    "# очки\n",
    "glasses_examples = [1314, 1336, 1352, 1369, 1384, 1416, 1428,\n",
    "                    1439, 1555, 1557, 1609, 1626, 1631, 1660,\n",
    "                    1704, 1747, 1846, 1950, 2054, 2117, 2174,\n",
    "                    2202, 2222, 2245, 2262, 2264, 2282, 2287,\n",
    "                    2316, 2330, 2423, 2538, 2566, 2570, 2630,\n",
    "                    2632, 2658, 2667, 2670, 2685, 2725, 2758,\n",
    "                    2770, 2935, 3017, 3067, 3093, 3117, 3190,\n",
    "                    3440, 3601, 3841, 3870, 3629, 3669, 3685, 3701]\n",
    "glasses_names = create_names(glasses_examples)\n",
    "print(len(glasses_names))"
   ]
  },
  {
   "cell_type": "code",
   "execution_count": 56,
   "id": "7f284590",
   "metadata": {},
   "outputs": [],
   "source": [
    "create_collage(path_to_folder=DATASET_ROOT,\n",
    "               list_of_images=glasses_names,\n",
    "               path_to_save=PLOTS_SAVE,\n",
    "               save_name=\"glasses_examples.png\",\n",
    "               n_rows=5,\n",
    "               n_cols=5)"
   ]
  },
  {
   "cell_type": "code",
   "execution_count": 60,
   "id": "01ae3ed1",
   "metadata": {},
   "outputs": [
    {
     "name": "stdout",
     "output_type": "stream",
     "text": [
      "10\n"
     ]
    }
   ],
   "source": [
    "# ракурс, поворот, наклон\n",
    "\n",
    "position_examples = [811, 820, 1209, 1373, 1654, 1670, 1700, 1883, 2107, 3594]\n",
    "position_names = create_names(position_examples)\n",
    "print(len(position_names))"
   ]
  },
  {
   "cell_type": "code",
   "execution_count": 62,
   "id": "c49c3f9a",
   "metadata": {},
   "outputs": [],
   "source": [
    "create_collage(path_to_folder=DATASET_ROOT,\n",
    "               list_of_images=position_names,\n",
    "               path_to_save=PLOTS_SAVE,\n",
    "               save_name=\"position_examples.png\",\n",
    "               n_rows=2,\n",
    "               n_cols=5)"
   ]
  },
  {
   "cell_type": "code",
   "execution_count": 63,
   "id": "10155b38",
   "metadata": {},
   "outputs": [
    {
     "name": "stdout",
     "output_type": "stream",
     "text": [
      "17\n"
     ]
    }
   ],
   "source": [
    "# инверсия цвета или очень тёмные картинки\n",
    "\n",
    "color_examples = [1027, 1181, 1200, 1214, 1324, 1380, 1382, 1463, 1535, 1611, 1636, 1839, 2112, 2379, 2612, 2645, 3425]\n",
    "color_names = create_names(color_examples)\n",
    "print(len(color_names))"
   ]
  },
  {
   "cell_type": "code",
   "execution_count": 64,
   "id": "e78d595c",
   "metadata": {},
   "outputs": [],
   "source": [
    "create_collage(path_to_folder=DATASET_ROOT,\n",
    "               list_of_images=color_names,\n",
    "               path_to_save=PLOTS_SAVE,\n",
    "               save_name=\"color_examples.png\",\n",
    "               n_rows=3,\n",
    "               n_cols=5)"
   ]
  },
  {
   "cell_type": "code",
   "execution_count": 65,
   "id": "bc7a1cf2",
   "metadata": {},
   "outputs": [
    {
     "name": "stdout",
     "output_type": "stream",
     "text": [
      "6\n"
     ]
    }
   ],
   "source": [
    "# другие примеры\n",
    "\n",
    "other_examples = [1115, 1173, 1866, 2798, 3259, 3279]\n",
    "other_names = create_names(other_examples)\n",
    "print(len(other_examples))"
   ]
  },
  {
   "cell_type": "code",
   "execution_count": 68,
   "id": "c9404bd0",
   "metadata": {},
   "outputs": [],
   "source": [
    "create_collage(path_to_folder=DATASET_ROOT,\n",
    "               list_of_images=other_names,\n",
    "               path_to_save=PLOTS_SAVE,\n",
    "               save_name=\"other_examples.png\",\n",
    "               n_rows=1,\n",
    "               n_cols=5)"
   ]
  },
  {
   "cell_type": "code",
   "execution_count": null,
   "id": "84d1bde4",
   "metadata": {},
   "outputs": [],
   "source": []
  },
  {
   "cell_type": "code",
   "execution_count": null,
   "id": "646698e8",
   "metadata": {},
   "outputs": [],
   "source": []
  },
  {
   "cell_type": "code",
   "execution_count": null,
   "id": "474cec81",
   "metadata": {},
   "outputs": [],
   "source": []
  },
  {
   "cell_type": "code",
   "execution_count": null,
   "id": "87144685",
   "metadata": {},
   "outputs": [],
   "source": []
  },
  {
   "cell_type": "code",
   "execution_count": null,
   "id": "e9dc5b1c",
   "metadata": {},
   "outputs": [],
   "source": []
  }
 ],
 "metadata": {
  "kernelspec": {
   "display_name": "Python 3",
   "language": "python",
   "name": "python3"
  },
  "language_info": {
   "codemirror_mode": {
    "name": "ipython",
    "version": 3
   },
   "file_extension": ".py",
   "mimetype": "text/x-python",
   "name": "python",
   "nbconvert_exporter": "python",
   "pygments_lexer": "ipython3",
   "version": "3.9.3"
  }
 },
 "nbformat": 4,
 "nbformat_minor": 5
}
