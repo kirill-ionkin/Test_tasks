{
 "cells": [
  {
   "cell_type": "code",
   "execution_count": 1,
   "id": "609e44cf",
   "metadata": {},
   "outputs": [],
   "source": [
    "import os\n",
    "import platform"
   ]
  },
  {
   "cell_type": "code",
   "execution_count": 2,
   "id": "d59a2948",
   "metadata": {},
   "outputs": [],
   "source": [
    "import numpy as np\n",
    "import scipy as sp\n",
    "import pandas as pd\n",
    "\n",
    "import matplotlib.pyplot as plt\n",
    "import seaborn as sns\n",
    "\n",
    "plt.rcParams[\"figure.figsize\"] = (15, 10)\n",
    "%matplotlib inline"
   ]
  },
  {
   "cell_type": "code",
   "execution_count": 4,
   "id": "139df3a7",
   "metadata": {},
   "outputs": [],
   "source": [
    "import sklearn\n",
    "from sklearn.model_selection import train_test_split"
   ]
  },
  {
   "cell_type": "code",
   "execution_count": 5,
   "id": "c2a441d2",
   "metadata": {},
   "outputs": [],
   "source": [
    "import PIL \n",
    "from PIL import Image"
   ]
  },
  {
   "cell_type": "code",
   "execution_count": 6,
   "id": "7ddd17a7",
   "metadata": {},
   "outputs": [],
   "source": [
    "import torch\n",
    "import torch.nn as nn\n",
    "import torch.optim as optim\n",
    "import torch.nn.functional as F\n",
    "from torch.utils.data import Dataset, DataLoader\n",
    "\n",
    "import torchvision\n",
    "from torchvision import transforms\n",
    "from torchvision import models\n",
    "\n",
    "from torchsummary import summary"
   ]
  },
  {
   "cell_type": "code",
   "execution_count": 7,
   "id": "9df10bea",
   "metadata": {},
   "outputs": [
    {
     "data": {
      "text/plain": [
       "device(type='cpu')"
      ]
     },
     "execution_count": 7,
     "metadata": {},
     "output_type": "execute_result"
    }
   ],
   "source": [
    "device = torch.device(\"cuda\" if torch.cuda.is_available() else \"cpu\")\n",
    "device"
   ]
  },
  {
   "cell_type": "code",
   "execution_count": 85,
   "id": "025d33fb",
   "metadata": {},
   "outputs": [],
   "source": [
    "SEED = 42\n",
    "\n",
    "ROOT= \"\"\n",
    "MODEL_SAVE = \"model_checkpoints\"\n",
    "PLOTS_SAVE = \"plots_checkpoints\"\n",
    "\n",
    "if platform.system() == \"Linux\":\n",
    "    DATASET_ROOT = \"data/EyesDataset\"\n",
    "else:\n",
    "    DATASET_ROOT = \"data\\\\EyesDataset\"\n"
   ]
  },
  {
   "cell_type": "code",
   "execution_count": 9,
   "id": "1a329ec4",
   "metadata": {},
   "outputs": [
    {
     "name": "stdout",
     "output_type": "stream",
     "text": [
      "Deterministic mode ON!\n"
     ]
    }
   ],
   "source": [
    "from deterministic import seed_everything\n",
    "seed_everything(seed=SEED)"
   ]
  },
  {
   "cell_type": "code",
   "execution_count": null,
   "id": "33e53de7",
   "metadata": {},
   "outputs": [],
   "source": [
    "# для обучения модели не будем использовать весь тренировочный датасет, а воспользуемся половиной\n",
    "# для быстрого обучения и выявления лучшего метода"
   ]
  },
  {
   "cell_type": "code",
   "execution_count": 16,
   "id": "d2f1ba95",
   "metadata": {},
   "outputs": [
    {
     "data": {
      "text/html": [
       "<div>\n",
       "<style scoped>\n",
       "    .dataframe tbody tr th:only-of-type {\n",
       "        vertical-align: middle;\n",
       "    }\n",
       "\n",
       "    .dataframe tbody tr th {\n",
       "        vertical-align: top;\n",
       "    }\n",
       "\n",
       "    .dataframe thead th {\n",
       "        text-align: right;\n",
       "    }\n",
       "</style>\n",
       "<table border=\"1\" class=\"dataframe\">\n",
       "  <thead>\n",
       "    <tr style=\"text-align: right;\">\n",
       "      <th></th>\n",
       "      <th>img_name</th>\n",
       "      <th>target</th>\n",
       "    </tr>\n",
       "  </thead>\n",
       "  <tbody>\n",
       "    <tr>\n",
       "      <th>2227</th>\n",
       "      <td>002227.jpg</td>\n",
       "      <td>0</td>\n",
       "    </tr>\n",
       "    <tr>\n",
       "      <th>3061</th>\n",
       "      <td>003061.jpg</td>\n",
       "      <td>1</td>\n",
       "    </tr>\n",
       "    <tr>\n",
       "      <th>2571</th>\n",
       "      <td>002571.jpg</td>\n",
       "      <td>0</td>\n",
       "    </tr>\n",
       "    <tr>\n",
       "      <th>1954</th>\n",
       "      <td>001954.jpg</td>\n",
       "      <td>1</td>\n",
       "    </tr>\n",
       "    <tr>\n",
       "      <th>2325</th>\n",
       "      <td>002325.jpg</td>\n",
       "      <td>1</td>\n",
       "    </tr>\n",
       "    <tr>\n",
       "      <th>...</th>\n",
       "      <td>...</td>\n",
       "      <td>...</td>\n",
       "    </tr>\n",
       "    <tr>\n",
       "      <th>565</th>\n",
       "      <td>000565.jpg</td>\n",
       "      <td>0</td>\n",
       "    </tr>\n",
       "    <tr>\n",
       "      <th>1958</th>\n",
       "      <td>001958.jpg</td>\n",
       "      <td>0</td>\n",
       "    </tr>\n",
       "    <tr>\n",
       "      <th>2851</th>\n",
       "      <td>002851.jpg</td>\n",
       "      <td>0</td>\n",
       "    </tr>\n",
       "    <tr>\n",
       "      <th>2318</th>\n",
       "      <td>002318.jpg</td>\n",
       "      <td>0</td>\n",
       "    </tr>\n",
       "    <tr>\n",
       "      <th>2175</th>\n",
       "      <td>002175.jpg</td>\n",
       "      <td>0</td>\n",
       "    </tr>\n",
       "  </tbody>\n",
       "</table>\n",
       "<p>2000 rows × 2 columns</p>\n",
       "</div>"
      ],
      "text/plain": [
       "        img_name  target\n",
       "2227  002227.jpg       0\n",
       "3061  003061.jpg       1\n",
       "2571  002571.jpg       0\n",
       "1954  001954.jpg       1\n",
       "2325  002325.jpg       1\n",
       "...          ...     ...\n",
       "565   000565.jpg       0\n",
       "1958  001958.jpg       0\n",
       "2851  002851.jpg       0\n",
       "2318  002318.jpg       0\n",
       "2175  002175.jpg       0\n",
       "\n",
       "[2000 rows x 2 columns]"
      ]
     },
     "execution_count": 16,
     "metadata": {},
     "output_type": "execute_result"
    }
   ],
   "source": [
    "img_name_target = pd.read_excel(os.path.join(ROOT, \"img_name_target.xlsx\")).sample(2000)\n",
    "img_name_target"
   ]
  },
  {
   "cell_type": "code",
   "execution_count": 18,
   "id": "e608fe72",
   "metadata": {},
   "outputs": [],
   "source": [
    "transforms_rgb = {\n",
    "    \"train\": transforms.Compose([\n",
    "        transforms.RandomHorizontalFlip(),\n",
    "        transforms.ToTensor(),\n",
    "        transforms.Normalize([0.485, 0.456, 0.406], [0.229, 0.224, 0.225])\n",
    "    ]),\n",
    "    \"val\": transforms.Compose([\n",
    "        transforms.ToTensor(),\n",
    "        transforms.Normalize([0.485, 0.456, 0.406], [0.229, 0.224, 0.225]) \n",
    "    ])\n",
    "}"
   ]
  },
  {
   "cell_type": "code",
   "execution_count": 19,
   "id": "e726289e",
   "metadata": {},
   "outputs": [],
   "source": [
    "class EyesDataset(Dataset):\n",
    "    def __init__(self, img_target_df, data_folder, transforms=transforms_rgb, RGB=True, mode=\"train\"):\n",
    "        self.img_target = img_target_df\n",
    "        self.data_folder = data_folder\n",
    "        self.RGB = RGB\n",
    "        \n",
    "        self.mode = mode\n",
    "        self.transforms = transforms\n",
    "        \n",
    "    def __getitem__(self, i):\n",
    "        img_name = self.img_target[\"img_name\"].iloc[i]\n",
    "        img_abs_path = os.path.join(self.data_folder, img_name)\n",
    "        \n",
    "        pil_img = self.open_img(img_abs_path)\n",
    "        \n",
    "        if self.mode == \"test\":\n",
    "            x = self.transforms[\"val\"](pil_img)\n",
    "            return x\n",
    "        else:\n",
    "            x = self.transforms[self.mode](pil_img)\n",
    "            \n",
    "            target = self.img_target[\"target\"].iloc[i]\n",
    "            return x, float(target)\n",
    "            \n",
    "    def __len__(self):\n",
    "        return len(self.img_target)\n",
    "    \n",
    "    def open_img(self, img_abs_path):\n",
    "        pil_img = Image.open(img_abs_path)\n",
    "        #pil_img.load()\n",
    "        \n",
    "        if self.RGB:\n",
    "            return pil_img.convert(\"RGB\")\n",
    "        return pil_img   "
   ]
  },
  {
   "cell_type": "code",
   "execution_count": 22,
   "id": "a4c02b08",
   "metadata": {},
   "outputs": [
    {
     "data": {
      "text/plain": [
       "((1600, 2), (400, 2))"
      ]
     },
     "execution_count": 22,
     "metadata": {},
     "output_type": "execute_result"
    }
   ],
   "source": [
    "train_df, val_df = train_test_split(img_name_target, train_size=0.8, random_state=SEED, shuffle=True, stratify=img_name_target[\"target\"])\n",
    "train_df.shape, val_df.shape"
   ]
  },
  {
   "cell_type": "code",
   "execution_count": 23,
   "id": "f4b299db",
   "metadata": {},
   "outputs": [],
   "source": [
    "train_EyesDataset = EyesDataset(img_target_df=train_df,\n",
    "                                data_folder=DATASET_ROOT,\n",
    "                                transforms=transforms_rgb,\n",
    "                                RGB=True,\n",
    "                                mode=\"train\")\n",
    "val_EyesDataset = EyesDataset(img_target_df=val_df,\n",
    "                              data_folder=DATASET_ROOT,\n",
    "                              transforms=transforms_rgb,\n",
    "                              RGB=True,\n",
    "                              mode=\"val\")\n",
    "\n",
    "train_dataloader = DataLoader(dataset=train_EyesDataset, batch_size=16, shuffle=True)\n",
    "val_dataloader = DataLoader(dataset=val_EyesDataset, batch_size=32, shuffle=False)"
   ]
  },
  {
   "cell_type": "code",
   "execution_count": 24,
   "id": "4c01ba79",
   "metadata": {},
   "outputs": [],
   "source": [
    "from train_val import fit_epoch, eval_epoch, train_val_loop\n",
    "from calculate_metrics import calculate_accuracy, calculate_equal_error_rate"
   ]
  },
  {
   "cell_type": "code",
   "execution_count": 49,
   "id": "2c55e4f3",
   "metadata": {},
   "outputs": [],
   "source": [
    "def plot_loss_metrics_history(train_loss_history,\n",
    "                              val_loss_history,\n",
    "                              train_metrics_history,\n",
    "                              val_metrics_history\n",
    "                             ):\n",
    "    \n",
    "    epochs = [i for i in range(1, len(train_loss_history) + 1)]\n",
    "    \n",
    "    fig, ax = plt.subplots(1 + len(train_metrics_history), 1)\n",
    "    fig.set_size_inches(10, 15)\n",
    "    metrics = [metric for metric in train_metrics_history.keys()]\n",
    "    \n",
    "    ax_1 = ax[0]\n",
    "    ax_1.plot(epochs, train_loss_history, label=\"train_loss\")\n",
    "    ax_1.plot(epochs, val_loss_history, label=\"val_loss\")\n",
    "    ax_1.set_xlabel(\"Epochs\")\n",
    "    ax_1.legend()\n",
    "    ax_1.grid(True)\n",
    "    \n",
    "    for i, metric in enumerate(metrics, start=1):\n",
    "        ax_i = ax[i]\n",
    "        ax_i.plot(epochs, train_metrics_history[metric], label=\"train_\"+metric)\n",
    "        ax_i.plot(epochs, val_metrics_history[metric], label=\"val_\"+metric)\n",
    "        ax_i.set_xlabel(\"Epochs\")\n",
    "        ax_i.legend()\n",
    "        ax_i.grid(True)"
   ]
  },
  {
   "cell_type": "code",
   "execution_count": null,
   "id": "b2ae4435",
   "metadata": {},
   "outputs": [],
   "source": []
  },
  {
   "cell_type": "markdown",
   "id": "28c85f57",
   "metadata": {},
   "source": [
    "### Finetuning"
   ]
  },
  {
   "cell_type": "code",
   "execution_count": null,
   "id": "a7a0489b",
   "metadata": {},
   "outputs": [],
   "source": [
    "# т.к. данных немного, то очевидный выбор падает на использование предобученных моделей\n",
    "# resnet18 удаётся принять картинки размера (24, 24), поэтому и будем использовать данную архитектуру"
   ]
  },
  {
   "cell_type": "code",
   "execution_count": null,
   "id": "7d35d7c4",
   "metadata": {},
   "outputs": [],
   "source": [
    "resnet18_v1 = models.resnet18(pretrained=True)\n",
    "resnet18_v1.fc = nn.Linear(in_features=512, out_features=2)"
   ]
  },
  {
   "cell_type": "code",
   "execution_count": null,
   "id": "262e3134",
   "metadata": {},
   "outputs": [],
   "source": [
    "resnet18_v1 = resnet18_v1.to(device)"
   ]
  },
  {
   "cell_type": "code",
   "execution_count": 47,
   "id": "36f12d07",
   "metadata": {},
   "outputs": [],
   "source": [
    "loss_func = nn.BCEWithLogitsLoss()\n",
    "opt = optim.Adam(resnet18_v1.parameters(), lr=3e-4)\n",
    "scheduler = torch.optim.lr_scheduler.ExponentialLR(opt, gamma = 0.95)"
   ]
  },
  {
   "cell_type": "code",
   "execution_count": 48,
   "id": "f37fb5f9",
   "metadata": {
    "scrolled": true
   },
   "outputs": [
    {
     "name": "stderr",
     "output_type": "stream",
     "text": [
      "Epoch 2:   0%|                                                                                 | 0/100 [00:00<?, ?it/s]"
     ]
    },
    {
     "name": "stdout",
     "output_type": "stream",
     "text": [
      "Save best model(Epoch: 1)\n",
      "Epoch: 1, Training Loss: 0.024023698419148847, Validation Loss: 0.007722854060325848\n",
      "---------  Training accuracy: 0.84, Validation accuracy: 0.9175\n"
     ]
    },
    {
     "name": "stderr",
     "output_type": "stream",
     "text": [
      "Epoch 3:   0%|                                                                                 | 0/100 [00:00<?, ?it/s]"
     ]
    },
    {
     "name": "stdout",
     "output_type": "stream",
     "text": [
      "Save best model(Epoch: 2)\n",
      "Epoch: 2, Training Loss: 0.013693131901897622, Validation Loss: 0.007622873798948924\n",
      "---------  Training accuracy: 0.915, Validation accuracy: 0.905\n"
     ]
    },
    {
     "name": "stderr",
     "output_type": "stream",
     "text": [
      "Epoch 4:   0%|                                                                                 | 0/100 [00:00<?, ?it/s]"
     ]
    },
    {
     "name": "stdout",
     "output_type": "stream",
     "text": [
      "Save best model(Epoch: 3)\n",
      "Epoch: 3, Training Loss: 0.01151069331796291, Validation Loss: 0.005588128021293536\n",
      "---------  Training accuracy: 0.923125, Validation accuracy: 0.9325\n"
     ]
    },
    {
     "name": "stderr",
     "output_type": "stream",
     "text": [
      "Epoch 5:   0%|                                                                                 | 0/100 [00:00<?, ?it/s]"
     ]
    },
    {
     "name": "stdout",
     "output_type": "stream",
     "text": [
      "Epoch: 4, Training Loss: 0.009058467454508523, Validation Loss: 0.0057542109434942645\n",
      "---------  Training accuracy: 0.94625, Validation accuracy: 0.9125\n"
     ]
    },
    {
     "name": "stderr",
     "output_type": "stream",
     "text": [
      "Epoch 6:   0%|                                                                                 | 0/100 [00:00<?, ?it/s]"
     ]
    },
    {
     "name": "stdout",
     "output_type": "stream",
     "text": [
      "Epoch: 5, Training Loss: 0.008118763703499466, Validation Loss: 0.005751494039602964\n",
      "---------  Training accuracy: 0.946875, Validation accuracy: 0.935\n"
     ]
    },
    {
     "name": "stderr",
     "output_type": "stream",
     "text": [
      "Epoch 7:   0%|                                                                                 | 0/100 [00:00<?, ?it/s]"
     ]
    },
    {
     "name": "stdout",
     "output_type": "stream",
     "text": [
      "Save best model(Epoch: 6)\n",
      "Epoch: 6, Training Loss: 0.007928212125026623, Validation Loss: 0.005048660362792017\n",
      "---------  Training accuracy: 0.949375, Validation accuracy: 0.9375\n"
     ]
    },
    {
     "name": "stderr",
     "output_type": "stream",
     "text": [
      "Epoch 8:   0%|                                                                                 | 0/100 [00:00<?, ?it/s]"
     ]
    },
    {
     "name": "stdout",
     "output_type": "stream",
     "text": [
      "Epoch: 7, Training Loss: 0.005187459565434779, Validation Loss: 0.006430377391756357\n",
      "---------  Training accuracy: 0.970625, Validation accuracy: 0.925\n"
     ]
    },
    {
     "name": "stderr",
     "output_type": "stream",
     "text": [
      "Epoch 9:   0%|                                                                                 | 0/100 [00:00<?, ?it/s]"
     ]
    },
    {
     "name": "stdout",
     "output_type": "stream",
     "text": [
      "Epoch: 8, Training Loss: 0.006786342805340985, Validation Loss: 0.006234693524954796\n",
      "---------  Training accuracy: 0.96, Validation accuracy: 0.945\n"
     ]
    },
    {
     "name": "stderr",
     "output_type": "stream",
     "text": [
      "Epoch 10:   0%|                                                                                | 0/100 [00:00<?, ?it/s]"
     ]
    },
    {
     "name": "stdout",
     "output_type": "stream",
     "text": [
      "Epoch: 9, Training Loss: 0.007164469457153549, Validation Loss: 0.006208277946050336\n",
      "---------  Training accuracy: 0.96375, Validation accuracy: 0.9325\n"
     ]
    },
    {
     "name": "stderr",
     "output_type": "stream",
     "text": [
      "Epoch 11:   0%|                                                                                | 0/100 [00:00<?, ?it/s]"
     ]
    },
    {
     "name": "stdout",
     "output_type": "stream",
     "text": [
      "Epoch: 10, Training Loss: 0.004257052050907675, Validation Loss: 0.0066143847515315055\n",
      "---------  Training accuracy: 0.97625, Validation accuracy: 0.93\n"
     ]
    },
    {
     "name": "stderr",
     "output_type": "stream",
     "text": [
      "Epoch 12:   0%|                                                                                | 0/100 [00:00<?, ?it/s]"
     ]
    },
    {
     "name": "stdout",
     "output_type": "stream",
     "text": [
      "Save best model(Epoch: 11)\n",
      "Epoch: 11, Training Loss: 0.0044043609326320276, Validation Loss: 0.0049580897435363945\n",
      "---------  Training accuracy: 0.9725, Validation accuracy: 0.9425\n"
     ]
    },
    {
     "name": "stderr",
     "output_type": "stream",
     "text": [
      "Epoch 13:   0%|                                                                                | 0/100 [00:00<?, ?it/s]"
     ]
    },
    {
     "name": "stdout",
     "output_type": "stream",
     "text": [
      "Epoch: 12, Training Loss: 0.0034463286582305432, Validation Loss: 0.005532460889771209\n",
      "---------  Training accuracy: 0.980625, Validation accuracy: 0.95\n"
     ]
    },
    {
     "name": "stderr",
     "output_type": "stream",
     "text": [
      "Epoch 14:   0%|                                                                                | 0/100 [00:00<?, ?it/s]"
     ]
    },
    {
     "name": "stdout",
     "output_type": "stream",
     "text": [
      "Epoch: 13, Training Loss: 0.003165340234356292, Validation Loss: 0.005919905301346509\n",
      "---------  Training accuracy: 0.981875, Validation accuracy: 0.945\n"
     ]
    },
    {
     "name": "stderr",
     "output_type": "stream",
     "text": [
      "Epoch 15:   0%|                                                                                | 0/100 [00:00<?, ?it/s]"
     ]
    },
    {
     "name": "stdout",
     "output_type": "stream",
     "text": [
      "Epoch: 14, Training Loss: 0.0030877975510713797, Validation Loss: 0.005310101115523231\n",
      "---------  Training accuracy: 0.976875, Validation accuracy: 0.9425\n"
     ]
    },
    {
     "name": "stderr",
     "output_type": "stream",
     "text": [
      "Epoch 16:   0%|                                                                                | 0/100 [00:00<?, ?it/s]"
     ]
    },
    {
     "name": "stdout",
     "output_type": "stream",
     "text": [
      "Epoch: 15, Training Loss: 0.002853473316746674, Validation Loss: 0.005693539640522007\n",
      "---------  Training accuracy: 0.9825, Validation accuracy: 0.9275\n"
     ]
    },
    {
     "name": "stderr",
     "output_type": "stream",
     "text": [
      "Epoch 17:   0%|                                                                                | 0/100 [00:00<?, ?it/s]"
     ]
    },
    {
     "name": "stdout",
     "output_type": "stream",
     "text": [
      "Epoch: 16, Training Loss: 0.0028630731648017858, Validation Loss: 0.0064724576671771564\n",
      "---------  Training accuracy: 0.9875, Validation accuracy: 0.935\n"
     ]
    },
    {
     "name": "stderr",
     "output_type": "stream",
     "text": [
      "Epoch 18:   0%|                                                                                | 0/100 [00:00<?, ?it/s]"
     ]
    },
    {
     "name": "stdout",
     "output_type": "stream",
     "text": [
      "Epoch: 17, Training Loss: 0.0032386300475351925, Validation Loss: 0.005868104357153531\n",
      "---------  Training accuracy: 0.98, Validation accuracy: 0.9425\n"
     ]
    },
    {
     "name": "stderr",
     "output_type": "stream",
     "text": [
      "Epoch 19:   0%|                                                                                | 0/100 [00:00<?, ?it/s]"
     ]
    },
    {
     "name": "stdout",
     "output_type": "stream",
     "text": [
      "Epoch: 18, Training Loss: 0.0017908460641029478, Validation Loss: 0.007256911180195751\n",
      "---------  Training accuracy: 0.99, Validation accuracy: 0.9375\n"
     ]
    },
    {
     "name": "stderr",
     "output_type": "stream",
     "text": [
      "Epoch 20:   0%|                                                                                | 0/100 [00:00<?, ?it/s]"
     ]
    },
    {
     "name": "stdout",
     "output_type": "stream",
     "text": [
      "Epoch: 19, Training Loss: 0.0017398942510326518, Validation Loss: 0.006592607221173388\n",
      "---------  Training accuracy: 0.9875, Validation accuracy: 0.925\n"
     ]
    },
    {
     "name": "stderr",
     "output_type": "stream",
     "text": [
      "Epoch 21:   0%|                                                                                | 0/100 [00:00<?, ?it/s]"
     ]
    },
    {
     "name": "stdout",
     "output_type": "stream",
     "text": [
      "Epoch: 20, Training Loss: 0.0020272159263959515, Validation Loss: 0.007601831243707408\n",
      "---------  Training accuracy: 0.9875, Validation accuracy: 0.9225\n"
     ]
    },
    {
     "name": "stderr",
     "output_type": "stream",
     "text": [
      "Epoch 22:   0%|                                                                                | 0/100 [00:00<?, ?it/s]"
     ]
    },
    {
     "name": "stdout",
     "output_type": "stream",
     "text": [
      "Epoch: 21, Training Loss: 0.0025721380237195834, Validation Loss: 0.0063433213337863205\n",
      "---------  Training accuracy: 0.986875, Validation accuracy: 0.9275\n"
     ]
    },
    {
     "name": "stderr",
     "output_type": "stream",
     "text": [
      "Epoch 23:   0%|                                                                                | 0/100 [00:00<?, ?it/s]"
     ]
    },
    {
     "name": "stdout",
     "output_type": "stream",
     "text": [
      "Epoch: 22, Training Loss: 0.0010382829101823463, Validation Loss: 0.007585886944333999\n",
      "---------  Training accuracy: 0.995, Validation accuracy: 0.9325\n"
     ]
    },
    {
     "name": "stderr",
     "output_type": "stream",
     "text": [
      "Epoch 24:   0%|                                                                                | 0/100 [00:00<?, ?it/s]"
     ]
    },
    {
     "name": "stdout",
     "output_type": "stream",
     "text": [
      "Epoch: 23, Training Loss: 0.00040476734309859207, Validation Loss: 0.007780820912780078\n",
      "---------  Training accuracy: 0.998125, Validation accuracy: 0.93\n"
     ]
    },
    {
     "name": "stderr",
     "output_type": "stream",
     "text": [
      "Epoch 25:   0%|                                                                                | 0/100 [00:00<?, ?it/s]"
     ]
    },
    {
     "name": "stdout",
     "output_type": "stream",
     "text": [
      "Epoch: 24, Training Loss: 0.00038503126602151935, Validation Loss: 0.00848959189360933\n",
      "---------  Training accuracy: 0.998125, Validation accuracy: 0.935\n"
     ]
    },
    {
     "name": "stderr",
     "output_type": "stream",
     "text": [
      "                                                                                                                       \r"
     ]
    }
   ],
   "source": [
    "train_loss_history_v1, val_loss_history_v1, train_metrics_history_v1, val_metrics_history_v1, resnet18_v1 =\\\n",
    "    train_val_loop(resnet18_v1,\n",
    "                   opt,\n",
    "                   loss_func,\n",
    "                   train_dataloader,\n",
    "                   val_dataloader,\n",
    "                   metrics={\"accuracy\": calculate_accuracy, \"equal_error_rate\": calculate_equal_error_rate},\n",
    "                   lr_scheduler=scheduler,\n",
    "                   max_epochs=40,\n",
    "                   patience=20,\n",
    "                   device=device\n",
    "                  )"
   ]
  },
  {
   "cell_type": "code",
   "execution_count": 50,
   "id": "19962493",
   "metadata": {},
   "outputs": [
    {
     "data": {
      "image/png": "[encoded data removed]",
      "text/plain": [
       "<Figure size 720x1080 with 3 Axes>"
      ]
     },
     "metadata": {
      "needs_background": "light"
     },
     "output_type": "display_data"
    }
   ],
   "source": [
    "plot_loss_metrics_history(train_loss_history_v1,  val_loss_history_v1, train_metrics_history_v1, val_metrics_history_v1)"
   ]
  },
  {
   "cell_type": "markdown",
   "id": "b156fdaa",
   "metadata": {},
   "source": [
    "### Feature extraction"
   ]
  },
  {
   "cell_type": "code",
   "execution_count": 56,
   "id": "357382ce",
   "metadata": {},
   "outputs": [],
   "source": [
    "resnet18_v2 = models.resnet18(pretrained=True)\n",
    "for p in resnet18_v2.parameters():\n",
    "    p.requires_grad = False"
   ]
  },
  {
   "cell_type": "code",
   "execution_count": 57,
   "id": "84014a27",
   "metadata": {},
   "outputs": [],
   "source": [
    "resnet18_v2.fc = nn.Linear(in_features=512, out_features=2)"
   ]
  },
  {
   "cell_type": "code",
   "execution_count": 58,
   "id": "67072f27",
   "metadata": {},
   "outputs": [],
   "source": [
    "resnet18_v2 = resnet18_v2.to(device)"
   ]
  },
  {
   "cell_type": "code",
   "execution_count": 61,
   "id": "3dc05ed8",
   "metadata": {},
   "outputs": [],
   "source": [
    "loss_func = nn.BCEWithLogitsLoss()\n",
    "opt = optim.Adam(resnet18_v2.parameters(), lr=3e-4)\n",
    "scheduler = torch.optim.lr_scheduler.ExponentialLR(opt, gamma = 0.95)"
   ]
  },
  {
   "cell_type": "code",
   "execution_count": 62,
   "id": "1fa5444a",
   "metadata": {},
   "outputs": [
    {
     "name": "stderr",
     "output_type": "stream",
     "text": [
      "Epoch 2:   3%|██▏                                                                      | 3/100 [00:00<00:04, 20.55it/s]"
     ]
    },
    {
     "name": "stdout",
     "output_type": "stream",
     "text": [
      "Save best model(Epoch: 1)\n",
      "Epoch: 1, Training Loss: 0.04517716881950037, Validation Loss: 0.021988541363753028\n",
      "---------  Training accuracy: 0.50625, Validation accuracy: 0.54\n"
     ]
    },
    {
     "name": "stderr",
     "output_type": "stream",
     "text": [
      "Epoch 3:   3%|██▏                                                                      | 3/100 [00:00<00:04, 21.28it/s]"
     ]
    },
    {
     "name": "stdout",
     "output_type": "stream",
     "text": [
      "Save best model(Epoch: 2)\n",
      "Epoch: 2, Training Loss: 0.03887988684364245, Validation Loss: 0.019525595630984754\n",
      "---------  Training accuracy: 0.605625, Validation accuracy: 0.625\n"
     ]
    },
    {
     "name": "stderr",
     "output_type": "stream",
     "text": [
      "Epoch 4:   3%|██▏                                                                      | 3/100 [00:00<00:04, 21.90it/s]"
     ]
    },
    {
     "name": "stdout",
     "output_type": "stream",
     "text": [
      "Save best model(Epoch: 3)\n",
      "Epoch: 3, Training Loss: 0.035363664941687606, Validation Loss: 0.018040384382838965\n",
      "---------  Training accuracy: 0.659375, Validation accuracy: 0.6425\n"
     ]
    },
    {
     "name": "stderr",
     "output_type": "stream",
     "text": [
      "Epoch 5:   3%|██▏                                                                      | 3/100 [00:00<00:04, 23.08it/s]"
     ]
    },
    {
     "name": "stdout",
     "output_type": "stream",
     "text": [
      "Save best model(Epoch: 4)\n",
      "Epoch: 4, Training Loss: 0.03270896140682453, Validation Loss: 0.017136651193723082\n",
      "---------  Training accuracy: 0.68125, Validation accuracy: 0.685\n"
     ]
    },
    {
     "name": "stderr",
     "output_type": "stream",
     "text": [
      "Epoch 6:   2%|█▍                                                                       | 2/100 [00:00<00:04, 20.00it/s]"
     ]
    },
    {
     "name": "stdout",
     "output_type": "stream",
     "text": [
      "Save best model(Epoch: 5)\n",
      "Epoch: 5, Training Loss: 0.03221529283808195, Validation Loss: 0.016396065099033876\n",
      "---------  Training accuracy: 0.693125, Validation accuracy: 0.6725\n"
     ]
    },
    {
     "name": "stderr",
     "output_type": "stream",
     "text": [
      "Epoch 7:   3%|██▏                                                                      | 3/100 [00:00<00:04, 22.06it/s]"
     ]
    },
    {
     "name": "stdout",
     "output_type": "stream",
     "text": [
      "Save best model(Epoch: 6)\n",
      "Epoch: 6, Training Loss: 0.03194958352107278, Validation Loss: 0.01613038040632091\n",
      "---------  Training accuracy: 0.711875, Validation accuracy: 0.7175\n"
     ]
    },
    {
     "name": "stderr",
     "output_type": "stream",
     "text": [
      "Epoch 8:   2%|█▍                                                                       | 2/100 [00:00<00:05, 17.86it/s]"
     ]
    },
    {
     "name": "stdout",
     "output_type": "stream",
     "text": [
      "Save best model(Epoch: 7)\n",
      "Epoch: 7, Training Loss: 0.03056994426839083, Validation Loss: 0.01591290299405955\n",
      "---------  Training accuracy: 0.728125, Validation accuracy: 0.7075\n"
     ]
    },
    {
     "name": "stderr",
     "output_type": "stream",
     "text": [
      "Epoch 9:   2%|█▍                                                                       | 2/100 [00:00<00:05, 18.18it/s]"
     ]
    },
    {
     "name": "stdout",
     "output_type": "stream",
     "text": [
      "Save best model(Epoch: 8)\n",
      "Epoch: 8, Training Loss: 0.030727526588475485, Validation Loss: 0.01584133565920638\n",
      "---------  Training accuracy: 0.72625, Validation accuracy: 0.7175\n"
     ]
    },
    {
     "name": "stderr",
     "output_type": "stream",
     "text": [
      "Epoch 10:   3%|██▏                                                                     | 3/100 [00:00<00:04, 22.90it/s]"
     ]
    },
    {
     "name": "stdout",
     "output_type": "stream",
     "text": [
      "Save best model(Epoch: 9)\n",
      "Epoch: 9, Training Loss: 0.031106403520243475, Validation Loss: 0.01582284838137639\n",
      "---------  Training accuracy: 0.715, Validation accuracy: 0.71\n"
     ]
    },
    {
     "name": "stderr",
     "output_type": "stream",
     "text": [
      "Epoch 11:   3%|██▏                                                                     | 3/100 [00:00<00:04, 20.83it/s]"
     ]
    },
    {
     "name": "stdout",
     "output_type": "stream",
     "text": [
      "Save best model(Epoch: 10)\n",
      "Epoch: 10, Training Loss: 0.02967577459043241, Validation Loss: 0.015334208288841182\n",
      "---------  Training accuracy: 0.728125, Validation accuracy: 0.7075\n"
     ]
    },
    {
     "name": "stderr",
     "output_type": "stream",
     "text": [
      "Epoch 12:   3%|██▏                                                                     | 3/100 [00:00<00:04, 21.74it/s]"
     ]
    },
    {
     "name": "stdout",
     "output_type": "stream",
     "text": [
      "Epoch: 11, Training Loss: 0.029846124225678068, Validation Loss: 0.01554724473211536\n",
      "---------  Training accuracy: 0.74, Validation accuracy: 0.69\n"
     ]
    },
    {
     "name": "stderr",
     "output_type": "stream",
     "text": [
      "Epoch 13:   3%|██▏                                                                     | 3/100 [00:00<00:04, 22.73it/s]"
     ]
    },
    {
     "name": "stdout",
     "output_type": "stream",
     "text": [
      "Save best model(Epoch: 12)\n",
      "Epoch: 12, Training Loss: 0.028667249453055776, Validation Loss: 0.015036149588650006\n",
      "---------  Training accuracy: 0.745, Validation accuracy: 0.7375\n"
     ]
    },
    {
     "name": "stderr",
     "output_type": "stream",
     "text": [
      "Epoch 14:   2%|█▍                                                                      | 2/100 [00:00<00:05, 18.87it/s]"
     ]
    },
    {
     "name": "stdout",
     "output_type": "stream",
     "text": [
      "Epoch: 13, Training Loss: 0.029047939088513886, Validation Loss: 0.015421359253814444\n",
      "---------  Training accuracy: 0.756875, Validation accuracy: 0.6925\n"
     ]
    },
    {
     "name": "stderr",
     "output_type": "stream",
     "text": [
      "Epoch 15:   2%|█▍                                                                      | 2/100 [00:00<00:04, 19.80it/s]"
     ]
    },
    {
     "name": "stdout",
     "output_type": "stream",
     "text": [
      "Save best model(Epoch: 14)\n",
      "Epoch: 14, Training Loss: 0.02925690731304712, Validation Loss: 0.014717220272123086\n",
      "---------  Training accuracy: 0.7425, Validation accuracy: 0.75\n"
     ]
    },
    {
     "name": "stderr",
     "output_type": "stream",
     "text": [
      "Epoch 16:   3%|██▏                                                                     | 3/100 [00:00<00:04, 23.62it/s]"
     ]
    },
    {
     "name": "stdout",
     "output_type": "stream",
     "text": [
      "Epoch: 15, Training Loss: 0.02879210414806039, Validation Loss: 0.015129592945850163\n",
      "---------  Training accuracy: 0.75125, Validation accuracy: 0.74\n"
     ]
    },
    {
     "name": "stderr",
     "output_type": "stream",
     "text": [
      "Epoch 17:   3%|██▏                                                                     | 3/100 [00:00<00:04, 21.74it/s]"
     ]
    },
    {
     "name": "stdout",
     "output_type": "stream",
     "text": [
      "Epoch: 16, Training Loss: 0.02746460938629866, Validation Loss: 0.014935339638795994\n",
      "---------  Training accuracy: 0.763125, Validation accuracy: 0.74\n"
     ]
    },
    {
     "name": "stderr",
     "output_type": "stream",
     "text": [
      "Epoch 18:   3%|██▏                                                                     | 3/100 [00:00<00:04, 21.28it/s]"
     ]
    },
    {
     "name": "stdout",
     "output_type": "stream",
     "text": [
      "Save best model(Epoch: 17)\n",
      "Epoch: 17, Training Loss: 0.028190266736155534, Validation Loss: 0.01452483112063419\n",
      "---------  Training accuracy: 0.751875, Validation accuracy: 0.735\n"
     ]
    },
    {
     "name": "stderr",
     "output_type": "stream",
     "text": [
      "Epoch 19:   3%|██▏                                                                     | 3/100 [00:00<00:04, 22.90it/s]"
     ]
    },
    {
     "name": "stdout",
     "output_type": "stream",
     "text": [
      "Save best model(Epoch: 18)\n",
      "Epoch: 18, Training Loss: 0.02790000982942729, Validation Loss: 0.014491396157391137\n",
      "---------  Training accuracy: 0.76625, Validation accuracy: 0.725\n"
     ]
    },
    {
     "name": "stderr",
     "output_type": "stream",
     "text": [
      "Epoch 20:   3%|██▏                                                                     | 3/100 [00:00<00:04, 22.39it/s]"
     ]
    },
    {
     "name": "stdout",
     "output_type": "stream",
     "text": [
      "Epoch: 19, Training Loss: 0.027976777112844502, Validation Loss: 0.014758005391432788\n",
      "---------  Training accuracy: 0.74875, Validation accuracy: 0.7275\n"
     ]
    },
    {
     "name": "stderr",
     "output_type": "stream",
     "text": [
      "Epoch 21:   3%|██▏                                                                     | 3/100 [00:00<00:03, 24.39it/s]"
     ]
    },
    {
     "name": "stdout",
     "output_type": "stream",
     "text": [
      "Epoch: 20, Training Loss: 0.028374444559069616, Validation Loss: 0.014516765789803685\n",
      "---------  Training accuracy: 0.75375, Validation accuracy: 0.74\n"
     ]
    },
    {
     "name": "stderr",
     "output_type": "stream",
     "text": [
      "Epoch 22:   3%|██▏                                                                     | 3/100 [00:00<00:04, 21.28it/s]"
     ]
    },
    {
     "name": "stdout",
     "output_type": "stream",
     "text": [
      "Save best model(Epoch: 21)\n",
      "Epoch: 21, Training Loss: 0.028516411961327322, Validation Loss: 0.014348126337208668\n",
      "---------  Training accuracy: 0.748125, Validation accuracy: 0.7525\n"
     ]
    },
    {
     "name": "stderr",
     "output_type": "stream",
     "text": [
      "Epoch 23:   3%|██▏                                                                     | 3/100 [00:00<00:04, 22.90it/s]"
     ]
    },
    {
     "name": "stdout",
     "output_type": "stream",
     "text": [
      "Epoch: 22, Training Loss: 0.027507478074339814, Validation Loss: 0.014414651434126426\n",
      "---------  Training accuracy: 0.76875, Validation accuracy: 0.7175\n"
     ]
    },
    {
     "name": "stderr",
     "output_type": "stream",
     "text": [
      "Epoch 24:   3%|██▏                                                                     | 3/100 [00:00<00:04, 22.39it/s]"
     ]
    },
    {
     "name": "stdout",
     "output_type": "stream",
     "text": [
      "Epoch: 23, Training Loss: 0.028631060523212, Validation Loss: 0.014421914685099181\n",
      "---------  Training accuracy: 0.760625, Validation accuracy: 0.74\n"
     ]
    },
    {
     "name": "stderr",
     "output_type": "stream",
     "text": [
      "Epoch 25:   3%|██▏                                                                     | 3/100 [00:00<00:04, 23.26it/s]"
     ]
    },
    {
     "name": "stdout",
     "output_type": "stream",
     "text": [
      "Epoch: 24, Training Loss: 0.027681533122067777, Validation Loss: 0.014588482199465035\n",
      "---------  Training accuracy: 0.75, Validation accuracy: 0.735\n"
     ]
    },
    {
     "name": "stderr",
     "output_type": "stream",
     "text": [
      "Epoch 26:   3%|██▏                                                                     | 3/100 [00:00<00:04, 21.90it/s]"
     ]
    },
    {
     "name": "stdout",
     "output_type": "stream",
     "text": [
      "Save best model(Epoch: 25)\n",
      "Epoch: 25, Training Loss: 0.028423887016087973, Validation Loss: 0.014286376902500706\n",
      "---------  Training accuracy: 0.74375, Validation accuracy: 0.745\n"
     ]
    },
    {
     "name": "stderr",
     "output_type": "stream",
     "text": [
      "Epoch 27:   3%|██▏                                                                     | 3/100 [00:00<00:04, 23.81it/s]"
     ]
    },
    {
     "name": "stdout",
     "output_type": "stream",
     "text": [
      "Epoch: 26, Training Loss: 0.028551759623687757, Validation Loss: 0.01466255525014276\n",
      "---------  Training accuracy: 0.744375, Validation accuracy: 0.725\n"
     ]
    },
    {
     "name": "stderr",
     "output_type": "stream",
     "text": [
      "Epoch 28:   3%|██▏                                                                     | 3/100 [00:00<00:04, 22.73it/s]"
     ]
    },
    {
     "name": "stdout",
     "output_type": "stream",
     "text": [
      "Epoch: 27, Training Loss: 0.02784725435591099, Validation Loss: 0.014891372421916458\n",
      "---------  Training accuracy: 0.780625, Validation accuracy: 0.73\n"
     ]
    },
    {
     "name": "stderr",
     "output_type": "stream",
     "text": [
      "Epoch 29:   3%|██▏                                                                     | 3/100 [00:00<00:04, 23.81it/s]"
     ]
    },
    {
     "name": "stdout",
     "output_type": "stream",
     "text": [
      "Epoch: 28, Training Loss: 0.028567462099308615, Validation Loss: 0.014902771982642662\n",
      "---------  Training accuracy: 0.748125, Validation accuracy: 0.715\n"
     ]
    },
    {
     "name": "stderr",
     "output_type": "stream",
     "text": [
      "Epoch 30:   3%|██▏                                                                     | 3/100 [00:00<00:04, 21.58it/s]"
     ]
    },
    {
     "name": "stdout",
     "output_type": "stream",
     "text": [
      "Epoch: 29, Training Loss: 0.027971473353195508, Validation Loss: 0.01475485314685102\n",
      "---------  Training accuracy: 0.763125, Validation accuracy: 0.7375\n"
     ]
    },
    {
     "name": "stderr",
     "output_type": "stream",
     "text": [
      "Epoch 31:   3%|██▏                                                                     | 3/100 [00:00<00:04, 21.28it/s]"
     ]
    },
    {
     "name": "stdout",
     "output_type": "stream",
     "text": [
      "Save best model(Epoch: 30)\n",
      "Epoch: 30, Training Loss: 0.026952669331813013, Validation Loss: 0.01401172596575634\n",
      "---------  Training accuracy: 0.7625, Validation accuracy: 0.7425\n"
     ]
    },
    {
     "name": "stderr",
     "output_type": "stream",
     "text": [
      "Epoch 32:   3%|██▏                                                                     | 3/100 [00:00<00:04, 22.06it/s]"
     ]
    },
    {
     "name": "stdout",
     "output_type": "stream",
     "text": [
      "Epoch: 31, Training Loss: 0.028355737620822764, Validation Loss: 0.014746552336650893\n",
      "---------  Training accuracy: 0.75875, Validation accuracy: 0.7325\n"
     ]
    },
    {
     "name": "stderr",
     "output_type": "stream",
     "text": [
      "Epoch 33:   3%|██▏                                                                     | 3/100 [00:00<00:04, 21.13it/s]"
     ]
    },
    {
     "name": "stdout",
     "output_type": "stream",
     "text": [
      "Epoch: 32, Training Loss: 0.028708287056181236, Validation Loss: 0.014490927624519827\n",
      "---------  Training accuracy: 0.755, Validation accuracy: 0.755\n"
     ]
    },
    {
     "name": "stderr",
     "output_type": "stream",
     "text": [
      "Epoch 34:   3%|██▏                                                                     | 3/100 [00:00<00:04, 20.69it/s]"
     ]
    },
    {
     "name": "stdout",
     "output_type": "stream",
     "text": [
      "Epoch: 33, Training Loss: 0.0282750372792907, Validation Loss: 0.014127693980990444\n",
      "---------  Training accuracy: 0.754375, Validation accuracy: 0.7375\n"
     ]
    },
    {
     "name": "stderr",
     "output_type": "stream",
     "text": [
      "Epoch 35:   3%|██▏                                                                     | 3/100 [00:00<00:04, 21.58it/s]"
     ]
    },
    {
     "name": "stdout",
     "output_type": "stream",
     "text": [
      "Epoch: 34, Training Loss: 0.027837779540475366, Validation Loss: 0.014589595279339847\n",
      "---------  Training accuracy: 0.753125, Validation accuracy: 0.7525\n"
     ]
    },
    {
     "name": "stderr",
     "output_type": "stream",
     "text": [
      "Epoch 36:   3%|██▏                                                                     | 3/100 [00:00<00:04, 22.22it/s]"
     ]
    },
    {
     "name": "stdout",
     "output_type": "stream",
     "text": [
      "Epoch: 35, Training Loss: 0.026773476096693685, Validation Loss: 0.014679045919692726\n",
      "---------  Training accuracy: 0.770625, Validation accuracy: 0.74\n"
     ]
    },
    {
     "name": "stderr",
     "output_type": "stream",
     "text": [
      "Epoch 37:   3%|██▏                                                                     | 3/100 [00:00<00:04, 22.22it/s]"
     ]
    },
    {
     "name": "stdout",
     "output_type": "stream",
     "text": [
      "Save best model(Epoch: 36)\n",
      "Epoch: 36, Training Loss: 0.027245441196528192, Validation Loss: 0.014009875096608653\n",
      "---------  Training accuracy: 0.77, Validation accuracy: 0.7575\n"
     ]
    },
    {
     "name": "stderr",
     "output_type": "stream",
     "text": [
      "Epoch 38:   3%|██▏                                                                     | 3/100 [00:00<00:04, 22.55it/s]"
     ]
    },
    {
     "name": "stdout",
     "output_type": "stream",
     "text": [
      "Epoch: 37, Training Loss: 0.02781573396704971, Validation Loss: 0.014593480330386228\n",
      "---------  Training accuracy: 0.7625, Validation accuracy: 0.7375\n"
     ]
    },
    {
     "name": "stderr",
     "output_type": "stream",
     "text": [
      "                                                                                                                       \r"
     ]
    }
   ],
   "source": [
    "train_loss_history_v2, val_loss_history_v2, train_metrics_history_v2, val_metrics_history_v2, resnet18_v2 =\\\n",
    "    train_val_loop(resnet18_v2,\n",
    "                   opt,\n",
    "                   loss_func,\n",
    "                   train_dataloader,\n",
    "                   val_dataloader,\n",
    "                   metrics={\"accuracy\": calculate_accuracy, \"equal_error_rate\": calculate_equal_error_rate},\n",
    "                   lr_scheduler=scheduler,\n",
    "                   max_epochs=40,\n",
    "                   patience=20,\n",
    "                   device=device\n",
    "                  )"
   ]
  },
  {
   "cell_type": "code",
   "execution_count": 63,
   "id": "24b3257f",
   "metadata": {},
   "outputs": [
    {
     "data": {
      "image/png": "[encoded data removed]",
      "text/plain": [
       "<Figure size 720x1080 with 3 Axes>"
      ]
     },
     "metadata": {
      "needs_background": "light"
     },
     "output_type": "display_data"
    }
   ],
   "source": [
    "plot_loss_metrics_history(train_loss_history_v2,  val_loss_history_v2, train_metrics_history_v2, val_metrics_history_v2)"
   ]
  },
  {
   "cell_type": "code",
   "execution_count": null,
   "id": "64a60f23",
   "metadata": {},
   "outputs": [],
   "source": []
  },
  {
   "cell_type": "markdown",
   "id": "009d3086",
   "metadata": {},
   "source": [
    "### Визуализируем результаты 2х методов обучения модели resnet18 для сравнения на val данных"
   ]
  },
  {
   "cell_type": "code",
   "execution_count": 65,
   "id": "2563d6b3",
   "metadata": {},
   "outputs": [
    {
     "data": {
      "text/plain": [
       "array([ 1,  2,  3,  4,  5,  6,  7,  8,  9, 10, 11, 12, 13, 14, 15, 16, 17,\n",
       "       18, 19, 20, 21, 22, 23, 24, 25])"
      ]
     },
     "execution_count": 65,
     "metadata": {},
     "output_type": "execute_result"
    }
   ],
   "source": [
    "epochs = np.arange(1, len(train_loss_history_v1) + 1)\n",
    "epochs\n"
   ]
  },
  {
   "cell_type": "code",
   "execution_count": 90,
   "id": "13e4cc87",
   "metadata": {},
   "outputs": [
    {
     "data": {
      "image/png": "[encoded data removed]",
      "text/plain": [
       "<Figure size 1080x720 with 2 Axes>"
      ]
     },
     "metadata": {
      "needs_background": "light"
     },
     "output_type": "display_data"
    }
   ],
   "source": [
    "epochs_v1 = np.arange(1, len(train_loss_history_v1) + 1)\n",
    "epochs_v2 = np.arange(1, len(train_loss_history_v2) + 1)\n",
    "\n",
    "fig, (ax_1, ax_2) = plt.subplots(1, 2)\n",
    "fig.set_size_inches((15, 10))\n",
    "\n",
    "ax_1.plot(epochs_v1, val_loss_history_v1, label=\"resnet18_finetuning\")\n",
    "ax_1.plot(epochs_v2, val_loss_history_v2, label=\"resnet18_feature_extraction\")\n",
    "ax_1.set_xlabel(\"Epochs\")\n",
    "ax_1.set_ylabel(\"Loss\")\n",
    "ax_1.legend()\n",
    "ax_1.grid(True)\n",
    "\n",
    "ax_2.plot(epochs_v1, val_metrics_history_v1[\"accuracy\"], label=\"resnet18_finetuning\")\n",
    "ax_2.plot(epochs_v2, val_metrics_history_v2[\"accuracy\"], label=\"resnet18_feature_extraction\")\n",
    "ax_2.set_xlabel(\"Epochs\")\n",
    "ax_2.set_ylabel(\"Accuracy\")\n",
    "ax_2.legend()\n",
    "ax_2.grid(True)\n",
    "\n",
    "plt.tight_layout()\n",
    "\n",
    "plt.savefig(os.path.join(PLOTS_SAVE, \"comparison_two_methods.png\"))"
   ]
  },
  {
   "cell_type": "code",
   "execution_count": 87,
   "id": "ba81cbab",
   "metadata": {},
   "outputs": [],
   "source": [
    "# Как можно заметить по графикам выше, выбор метода обучения модели очевиден - будем спользовать finetunning,\n",
    "# т.к. качество модели на примере метрики(accuracy) при finetunning-е существенно выше"
   ]
  },
  {
   "cell_type": "code",
   "execution_count": null,
   "id": "52f894b9",
   "metadata": {},
   "outputs": [],
   "source": []
  }
 ],
 "metadata": {
  "kernelspec": {
   "display_name": "Python 3",
   "language": "python",
   "name": "python3"
  },
  "language_info": {
   "codemirror_mode": {
    "name": "ipython",
    "version": 3
   },
   "file_extension": ".py",
   "mimetype": "text/x-python",
   "name": "python",
   "nbconvert_exporter": "python",
   "pygments_lexer": "ipython3",
   "version": "3.9.3"
  }
 },
 "nbformat": 4,
 "nbformat_minor": 5
}
