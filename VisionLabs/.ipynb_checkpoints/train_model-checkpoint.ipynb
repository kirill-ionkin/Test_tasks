{
 "cells": [
  {
   "cell_type": "code",
   "execution_count": 1,
   "id": "9afa4ce6",
   "metadata": {},
   "outputs": [],
   "source": [
    "import os\n",
    "import platform"
   ]
  },
  {
   "cell_type": "code",
   "execution_count": 2,
   "id": "554face0",
   "metadata": {},
   "outputs": [],
   "source": [
    "import numpy as np\n",
    "import scipy as sp\n",
    "import pandas as pd\n",
    "\n",
    "import matplotlib.pyplot as plt\n",
    "import seaborn as sns\n",
    "\n",
    "plt.rcParams[\"figure.figsize\"] = (15, 10)\n",
    "%matplotlib inline"
   ]
  },
  {
   "cell_type": "code",
   "execution_count": 3,
   "id": "3f2afad2",
   "metadata": {},
   "outputs": [],
   "source": [
    "import sklearn\n",
    "from sklearn.model_selection import train_test_split"
   ]
  },
  {
   "cell_type": "code",
   "execution_count": 4,
   "id": "1a0ff7b2",
   "metadata": {},
   "outputs": [],
   "source": [
    "import PIL \n",
    "from PIL import Image"
   ]
  },
  {
   "cell_type": "code",
   "execution_count": 5,
   "id": "f60fb88e",
   "metadata": {},
   "outputs": [],
   "source": [
    "import torch\n",
    "import torch.nn as nn\n",
    "import torch.optim as optim\n",
    "import torch.nn.functional as F\n",
    "from torch.utils.data import Dataset, DataLoader\n",
    "\n",
    "import torchvision\n",
    "from torchvision import transforms\n",
    "from torchvision import models\n",
    "\n",
    "from torchsummary import summary"
   ]
  },
  {
   "cell_type": "code",
   "execution_count": 6,
   "id": "f12e6bbf",
   "metadata": {},
   "outputs": [
    {
     "data": {
      "text/plain": [
       "device(type='cpu')"
      ]
     },
     "execution_count": 6,
     "metadata": {},
     "output_type": "execute_result"
    }
   ],
   "source": [
    "device = torch.device(\"cuda\" if torch.cuda.is_available() else \"cpu\")\n",
    "device"
   ]
  },
  {
   "cell_type": "code",
   "execution_count": 7,
   "id": "81d0a442",
   "metadata": {},
   "outputs": [],
   "source": [
    "SEED = 42\n",
    "\n",
    "ROOT= \"\"\n",
    "MODEL_SAVE = \"model_checkpoints\"\n",
    "PLOTS_SAVE = \"plots_checkpoints\"\n",
    "\n",
    "if platform.system() == \"Linux\":\n",
    "    DATASET_ROOT = \"data/EyesDataset\"\n",
    "else:\n",
    "    DATASET_ROOT = \"data\\\\EyesDataset\""
   ]
  },
  {
   "cell_type": "code",
   "execution_count": 8,
   "id": "178310fc",
   "metadata": {},
   "outputs": [
    {
     "name": "stdout",
     "output_type": "stream",
     "text": [
      "Deterministic mode ON!\n"
     ]
    }
   ],
   "source": [
    "from deterministic import seed_everything\n",
    "seed_everything(seed=SEED)"
   ]
  },
  {
   "cell_type": "code",
   "execution_count": 9,
   "id": "5611304b",
   "metadata": {},
   "outputs": [
    {
     "data": {
      "text/html": [
       "<div>\n",
       "<style scoped>\n",
       "    .dataframe tbody tr th:only-of-type {\n",
       "        vertical-align: middle;\n",
       "    }\n",
       "\n",
       "    .dataframe tbody tr th {\n",
       "        vertical-align: top;\n",
       "    }\n",
       "\n",
       "    .dataframe thead th {\n",
       "        text-align: right;\n",
       "    }\n",
       "</style>\n",
       "<table border=\"1\" class=\"dataframe\">\n",
       "  <thead>\n",
       "    <tr style=\"text-align: right;\">\n",
       "      <th></th>\n",
       "      <th>img_name</th>\n",
       "      <th>target</th>\n",
       "    </tr>\n",
       "  </thead>\n",
       "  <tbody>\n",
       "    <tr>\n",
       "      <th>0</th>\n",
       "      <td>000000.jpg</td>\n",
       "      <td>1</td>\n",
       "    </tr>\n",
       "    <tr>\n",
       "      <th>1</th>\n",
       "      <td>000001.jpg</td>\n",
       "      <td>1</td>\n",
       "    </tr>\n",
       "    <tr>\n",
       "      <th>2</th>\n",
       "      <td>000002.jpg</td>\n",
       "      <td>1</td>\n",
       "    </tr>\n",
       "    <tr>\n",
       "      <th>3</th>\n",
       "      <td>000003.jpg</td>\n",
       "      <td>0</td>\n",
       "    </tr>\n",
       "    <tr>\n",
       "      <th>4</th>\n",
       "      <td>000004.jpg</td>\n",
       "      <td>0</td>\n",
       "    </tr>\n",
       "    <tr>\n",
       "      <th>...</th>\n",
       "      <td>...</td>\n",
       "      <td>...</td>\n",
       "    </tr>\n",
       "    <tr>\n",
       "      <th>3995</th>\n",
       "      <td>003995.jpg</td>\n",
       "      <td>0</td>\n",
       "    </tr>\n",
       "    <tr>\n",
       "      <th>3996</th>\n",
       "      <td>003996.jpg</td>\n",
       "      <td>0</td>\n",
       "    </tr>\n",
       "    <tr>\n",
       "      <th>3997</th>\n",
       "      <td>003997.jpg</td>\n",
       "      <td>1</td>\n",
       "    </tr>\n",
       "    <tr>\n",
       "      <th>3998</th>\n",
       "      <td>003998.jpg</td>\n",
       "      <td>1</td>\n",
       "    </tr>\n",
       "    <tr>\n",
       "      <th>3999</th>\n",
       "      <td>003999.jpg</td>\n",
       "      <td>0</td>\n",
       "    </tr>\n",
       "  </tbody>\n",
       "</table>\n",
       "<p>4000 rows × 2 columns</p>\n",
       "</div>"
      ],
      "text/plain": [
       "        img_name  target\n",
       "0     000000.jpg       1\n",
       "1     000001.jpg       1\n",
       "2     000002.jpg       1\n",
       "3     000003.jpg       0\n",
       "4     000004.jpg       0\n",
       "...          ...     ...\n",
       "3995  003995.jpg       0\n",
       "3996  003996.jpg       0\n",
       "3997  003997.jpg       1\n",
       "3998  003998.jpg       1\n",
       "3999  003999.jpg       0\n",
       "\n",
       "[4000 rows x 2 columns]"
      ]
     },
     "execution_count": 9,
     "metadata": {},
     "output_type": "execute_result"
    }
   ],
   "source": [
    "img_name_target = pd.read_excel(os.path.join(ROOT, \"img_name_target.xlsx\"))\n",
    "img_name_target"
   ]
  },
  {
   "cell_type": "code",
   "execution_count": 10,
   "id": "e8519267",
   "metadata": {},
   "outputs": [
    {
     "data": {
      "text/html": [
       "<div>\n",
       "<style scoped>\n",
       "    .dataframe tbody tr th:only-of-type {\n",
       "        vertical-align: middle;\n",
       "    }\n",
       "\n",
       "    .dataframe tbody tr th {\n",
       "        vertical-align: top;\n",
       "    }\n",
       "\n",
       "    .dataframe thead th {\n",
       "        text-align: right;\n",
       "    }\n",
       "</style>\n",
       "<table border=\"1\" class=\"dataframe\">\n",
       "  <thead>\n",
       "    <tr style=\"text-align: right;\">\n",
       "      <th></th>\n",
       "      <th>img_name</th>\n",
       "      <th>target</th>\n",
       "    </tr>\n",
       "  </thead>\n",
       "  <tbody>\n",
       "    <tr>\n",
       "      <th>0</th>\n",
       "      <td>000000.jpg</td>\n",
       "      <td>1</td>\n",
       "    </tr>\n",
       "    <tr>\n",
       "      <th>1</th>\n",
       "      <td>000001.jpg</td>\n",
       "      <td>1</td>\n",
       "    </tr>\n",
       "    <tr>\n",
       "      <th>2</th>\n",
       "      <td>000002.jpg</td>\n",
       "      <td>1</td>\n",
       "    </tr>\n",
       "    <tr>\n",
       "      <th>3</th>\n",
       "      <td>000003.jpg</td>\n",
       "      <td>0</td>\n",
       "    </tr>\n",
       "    <tr>\n",
       "      <th>4</th>\n",
       "      <td>000004.jpg</td>\n",
       "      <td>0</td>\n",
       "    </tr>\n",
       "    <tr>\n",
       "      <th>...</th>\n",
       "      <td>...</td>\n",
       "      <td>...</td>\n",
       "    </tr>\n",
       "    <tr>\n",
       "      <th>3995</th>\n",
       "      <td>003995.jpg</td>\n",
       "      <td>0</td>\n",
       "    </tr>\n",
       "    <tr>\n",
       "      <th>3996</th>\n",
       "      <td>003996.jpg</td>\n",
       "      <td>0</td>\n",
       "    </tr>\n",
       "    <tr>\n",
       "      <th>3997</th>\n",
       "      <td>003997.jpg</td>\n",
       "      <td>1</td>\n",
       "    </tr>\n",
       "    <tr>\n",
       "      <th>3998</th>\n",
       "      <td>003998.jpg</td>\n",
       "      <td>1</td>\n",
       "    </tr>\n",
       "    <tr>\n",
       "      <th>3999</th>\n",
       "      <td>003999.jpg</td>\n",
       "      <td>0</td>\n",
       "    </tr>\n",
       "  </tbody>\n",
       "</table>\n",
       "<p>4000 rows × 2 columns</p>\n",
       "</div>"
      ],
      "text/plain": [
       "        img_name  target\n",
       "0     000000.jpg       1\n",
       "1     000001.jpg       1\n",
       "2     000002.jpg       1\n",
       "3     000003.jpg       0\n",
       "4     000004.jpg       0\n",
       "...          ...     ...\n",
       "3995  003995.jpg       0\n",
       "3996  003996.jpg       0\n",
       "3997  003997.jpg       1\n",
       "3998  003998.jpg       1\n",
       "3999  003999.jpg       0\n",
       "\n",
       "[4000 rows x 2 columns]"
      ]
     },
     "execution_count": 10,
     "metadata": {},
     "output_type": "execute_result"
    }
   ],
   "source": [
    "name_target = img_name_target.copy()\n",
    "name_target"
   ]
  },
  {
   "cell_type": "markdown",
   "id": "5e481118",
   "metadata": {},
   "source": [
    "### Кастомный датасет для работы с фотографиями глаз"
   ]
  },
  {
   "cell_type": "code",
   "execution_count": 11,
   "id": "6c3241ae",
   "metadata": {},
   "outputs": [],
   "source": [
    "transforms_rgb = {\n",
    "    \"train\": transforms.Compose([\n",
    "        transforms.RandomHorizontalFlip(),\n",
    "        transforms.ToTensor(),\n",
    "        transforms.Normalize([0.485, 0.456, 0.406], [0.229, 0.224, 0.225])\n",
    "    ]),\n",
    "    \"val\": transforms.Compose([\n",
    "        transforms.ToTensor(),\n",
    "        transforms.Normalize([0.485, 0.456, 0.406], [0.229, 0.224, 0.225]) \n",
    "    ])\n",
    "}"
   ]
  },
  {
   "cell_type": "code",
   "execution_count": 12,
   "id": "86438ab0",
   "metadata": {},
   "outputs": [],
   "source": [
    "class EyesDataset(Dataset):\n",
    "    def __init__(self, img_target_df, data_folder, transforms=transforms_rgb, RGB=True, mode=\"train\"):\n",
    "        self.img_target = img_target_df\n",
    "        self.data_folder = data_folder\n",
    "        self.RGB = RGB\n",
    "        \n",
    "        self.mode = mode\n",
    "        self.transforms = transforms\n",
    "        \n",
    "    def __getitem__(self, i):\n",
    "        img_name = self.img_target[\"img_name\"].iloc[i]\n",
    "        img_abs_path = os.path.join(self.data_folder, img_name)\n",
    "        \n",
    "        pil_img = self.open_img(img_abs_path)\n",
    "        \n",
    "        if self.mode == \"test\":\n",
    "            x = self.transforms[\"val\"](pil_img)\n",
    "            return x\n",
    "        else:\n",
    "            x = self.transforms[self.mode](pil_img)\n",
    "            \n",
    "            target = self.img_target[\"target\"].iloc[i]\n",
    "            return x, float(target)\n",
    "            \n",
    "    def __len__(self):\n",
    "        return len(self.img_target)\n",
    "    \n",
    "    def open_img(self, img_abs_path):\n",
    "        pil_img = Image.open(img_abs_path)\n",
    "        #pil_img.load()\n",
    "        \n",
    "        if self.RGB:\n",
    "            return pil_img.convert(\"RGB\")\n",
    "        return pil_img   "
   ]
  },
  {
   "cell_type": "markdown",
   "id": "7edbd9b7",
   "metadata": {},
   "source": [
    "### Разобьём данные на train/val"
   ]
  },
  {
   "cell_type": "code",
   "execution_count": 13,
   "id": "cf7edb28",
   "metadata": {},
   "outputs": [
    {
     "data": {
      "text/html": [
       "<div>\n",
       "<style scoped>\n",
       "    .dataframe tbody tr th:only-of-type {\n",
       "        vertical-align: middle;\n",
       "    }\n",
       "\n",
       "    .dataframe tbody tr th {\n",
       "        vertical-align: top;\n",
       "    }\n",
       "\n",
       "    .dataframe thead th {\n",
       "        text-align: right;\n",
       "    }\n",
       "</style>\n",
       "<table border=\"1\" class=\"dataframe\">\n",
       "  <thead>\n",
       "    <tr style=\"text-align: right;\">\n",
       "      <th></th>\n",
       "      <th>img_name</th>\n",
       "      <th>target</th>\n",
       "    </tr>\n",
       "  </thead>\n",
       "  <tbody>\n",
       "    <tr>\n",
       "      <th>0</th>\n",
       "      <td>000000.jpg</td>\n",
       "      <td>1</td>\n",
       "    </tr>\n",
       "    <tr>\n",
       "      <th>1</th>\n",
       "      <td>000001.jpg</td>\n",
       "      <td>1</td>\n",
       "    </tr>\n",
       "    <tr>\n",
       "      <th>2</th>\n",
       "      <td>000002.jpg</td>\n",
       "      <td>1</td>\n",
       "    </tr>\n",
       "    <tr>\n",
       "      <th>3</th>\n",
       "      <td>000003.jpg</td>\n",
       "      <td>0</td>\n",
       "    </tr>\n",
       "    <tr>\n",
       "      <th>4</th>\n",
       "      <td>000004.jpg</td>\n",
       "      <td>0</td>\n",
       "    </tr>\n",
       "    <tr>\n",
       "      <th>...</th>\n",
       "      <td>...</td>\n",
       "      <td>...</td>\n",
       "    </tr>\n",
       "    <tr>\n",
       "      <th>3995</th>\n",
       "      <td>003995.jpg</td>\n",
       "      <td>0</td>\n",
       "    </tr>\n",
       "    <tr>\n",
       "      <th>3996</th>\n",
       "      <td>003996.jpg</td>\n",
       "      <td>0</td>\n",
       "    </tr>\n",
       "    <tr>\n",
       "      <th>3997</th>\n",
       "      <td>003997.jpg</td>\n",
       "      <td>1</td>\n",
       "    </tr>\n",
       "    <tr>\n",
       "      <th>3998</th>\n",
       "      <td>003998.jpg</td>\n",
       "      <td>1</td>\n",
       "    </tr>\n",
       "    <tr>\n",
       "      <th>3999</th>\n",
       "      <td>003999.jpg</td>\n",
       "      <td>0</td>\n",
       "    </tr>\n",
       "  </tbody>\n",
       "</table>\n",
       "<p>4000 rows × 2 columns</p>\n",
       "</div>"
      ],
      "text/plain": [
       "        img_name  target\n",
       "0     000000.jpg       1\n",
       "1     000001.jpg       1\n",
       "2     000002.jpg       1\n",
       "3     000003.jpg       0\n",
       "4     000004.jpg       0\n",
       "...          ...     ...\n",
       "3995  003995.jpg       0\n",
       "3996  003996.jpg       0\n",
       "3997  003997.jpg       1\n",
       "3998  003998.jpg       1\n",
       "3999  003999.jpg       0\n",
       "\n",
       "[4000 rows x 2 columns]"
      ]
     },
     "execution_count": 13,
     "metadata": {},
     "output_type": "execute_result"
    }
   ],
   "source": [
    "name_target"
   ]
  },
  {
   "cell_type": "code",
   "execution_count": 14,
   "id": "51d5cf2f",
   "metadata": {},
   "outputs": [
    {
     "data": {
      "text/plain": [
       "((3200, 2), (800, 2))"
      ]
     },
     "execution_count": 14,
     "metadata": {},
     "output_type": "execute_result"
    }
   ],
   "source": [
    "# стратифицированное разбитие данных на train/val\n",
    "train_df, val_df = train_test_split(name_target, train_size=0.8, random_state=SEED, shuffle=True, stratify=name_target[\"target\"])\n",
    "train_df.shape, val_df.shape"
   ]
  },
  {
   "cell_type": "code",
   "execution_count": 15,
   "id": "18adb2f2",
   "metadata": {},
   "outputs": [
    {
     "data": {
      "text/plain": [
       "0    0.533125\n",
       "1    0.466875\n",
       "Name: target, dtype: float64"
      ]
     },
     "execution_count": 15,
     "metadata": {},
     "output_type": "execute_result"
    }
   ],
   "source": [
    "train_df[\"target\"].value_counts(normalize=True)"
   ]
  },
  {
   "cell_type": "code",
   "execution_count": 16,
   "id": "e6a0b048",
   "metadata": {},
   "outputs": [
    {
     "data": {
      "text/plain": [
       "0    0.5325\n",
       "1    0.4675\n",
       "Name: target, dtype: float64"
      ]
     },
     "execution_count": 16,
     "metadata": {},
     "output_type": "execute_result"
    }
   ],
   "source": [
    "val_df[\"target\"].value_counts(normalize=True)"
   ]
  },
  {
   "cell_type": "code",
   "execution_count": 17,
   "id": "a67dc55f",
   "metadata": {},
   "outputs": [
    {
     "data": {
      "text/plain": [
       "0    0.533\n",
       "1    0.467\n",
       "Name: target, dtype: float64"
      ]
     },
     "execution_count": 17,
     "metadata": {},
     "output_type": "execute_result"
    }
   ],
   "source": [
    "name_target[\"target\"].value_counts(normalize=True)"
   ]
  },
  {
   "cell_type": "markdown",
   "id": "90d45419",
   "metadata": {},
   "source": [
    "### Dataset + dataloader"
   ]
  },
  {
   "cell_type": "code",
   "execution_count": 18,
   "id": "99815d26",
   "metadata": {},
   "outputs": [],
   "source": [
    "train_EyesDataset = EyesDataset(img_target_df=train_df,\n",
    "                                data_folder=DATASET_ROOT,\n",
    "                                transforms=transforms_rgb,\n",
    "                                RGB=True,\n",
    "                                mode=\"train\")\n",
    "val_EyesDataset = EyesDataset(img_target_df=val_df,\n",
    "                              data_folder=DATASET_ROOT,\n",
    "                              transforms=transforms_rgb,\n",
    "                              RGB=True,\n",
    "                              mode=\"val\")\n",
    "\n",
    "train_dataloader = DataLoader(dataset=train_EyesDataset, batch_size=16, shuffle=True)\n",
    "val_dataloader = DataLoader(dataset=val_EyesDataset, batch_size=32, shuffle=False)"
   ]
  },
  {
   "cell_type": "markdown",
   "id": "c2cb3ca0",
   "metadata": {},
   "source": [
    "#### train/val loop"
   ]
  },
  {
   "cell_type": "code",
   "execution_count": null,
   "id": "95b11dd1",
   "metadata": {},
   "outputs": [],
   "source": [
    "# весь необходимый функцонал для обучения/валидации перенесён в отдельные модули для удобства"
   ]
  },
  {
   "cell_type": "code",
   "execution_count": 19,
   "id": "cd2edfc7",
   "metadata": {},
   "outputs": [],
   "source": [
    "from train_val import fit_epoch, eval_epoch, train_val_loop"
   ]
  },
  {
   "cell_type": "code",
   "execution_count": 20,
   "id": "624a109e",
   "metadata": {},
   "outputs": [],
   "source": [
    "from calculate_metrics import calculate_accuracy, calculate_equal_error_rate"
   ]
  },
  {
   "cell_type": "markdown",
   "id": "f748da8c",
   "metadata": {},
   "source": [
    "#### Визуализация результатов обучения и валидации"
   ]
  },
  {
   "cell_type": "code",
   "execution_count": 21,
   "id": "7e7e52a2",
   "metadata": {},
   "outputs": [],
   "source": [
    "def plot_loss_metrics_history(train_loss_history,\n",
    "                              val_loss_history,\n",
    "                              train_metrics_history,\n",
    "                              val_metrics_history\n",
    "                             ):\n",
    "    \n",
    "    epochs = [i for i in range(1, len(train_loss_history) + 1)]\n",
    "    \n",
    "    fig, ax = plt.subplots(1 + len(train_metrics_history), 1)\n",
    "    fig.set_size_inches(10, 15)\n",
    "    metrics = [metric for metric in train_metrics_history.keys()]\n",
    "    \n",
    "    ax_1 = ax[0]\n",
    "    ax_1.plot(epochs, train_loss_history, label=\"train_loss\")\n",
    "    ax_1.plot(epochs, val_loss_history, label=\"val_loss\")\n",
    "    ax_1.set_xlabel(\"Epochs\")\n",
    "    ax_1.legend()\n",
    "    ax_1.grid(True)\n",
    "    \n",
    "    for i, metric in enumerate(metrics, start=1):\n",
    "        ax_i = ax[i]\n",
    "        ax_i.plot(epochs, train_metrics_history[metric], label=\"train_\"+metric)\n",
    "        ax_i.plot(epochs, val_metrics_history[metric], label=\"val_\"+metric)\n",
    "        ax_i.set_xlabel(\"Epochs\")\n",
    "        ax_i.legend()\n",
    "        ax_i.grid(True)"
   ]
  },
  {
   "cell_type": "markdown",
   "id": "ed3ca9ee",
   "metadata": {},
   "source": [
    "### Обучение модели(resnet18 + finetuning)"
   ]
  },
  {
   "cell_type": "code",
   "execution_count": 23,
   "id": "b8728185",
   "metadata": {},
   "outputs": [],
   "source": [
    "resnet18 = models.resnet18(pretrained=True)"
   ]
  },
  {
   "cell_type": "code",
   "execution_count": 24,
   "id": "d2293bc4",
   "metadata": {},
   "outputs": [],
   "source": [
    "resnet18.fc = nn.Linear(in_features=512, out_features=2)"
   ]
  },
  {
   "cell_type": "code",
   "execution_count": 25,
   "id": "a90589a5",
   "metadata": {},
   "outputs": [
    {
     "name": "stdout",
     "output_type": "stream",
     "text": [
      "----------------------------------------------------------------\n",
      "        Layer (type)               Output Shape         Param #\n",
      "================================================================\n",
      "            Conv2d-1           [-1, 64, 12, 12]           9,408\n",
      "       BatchNorm2d-2           [-1, 64, 12, 12]             128\n",
      "              ReLU-3           [-1, 64, 12, 12]               0\n",
      "         MaxPool2d-4             [-1, 64, 6, 6]               0\n",
      "            Conv2d-5             [-1, 64, 6, 6]          36,864\n",
      "       BatchNorm2d-6             [-1, 64, 6, 6]             128\n",
      "              ReLU-7             [-1, 64, 6, 6]               0\n",
      "            Conv2d-8             [-1, 64, 6, 6]          36,864\n",
      "       BatchNorm2d-9             [-1, 64, 6, 6]             128\n",
      "             ReLU-10             [-1, 64, 6, 6]               0\n",
      "       BasicBlock-11             [-1, 64, 6, 6]               0\n",
      "           Conv2d-12             [-1, 64, 6, 6]          36,864\n",
      "      BatchNorm2d-13             [-1, 64, 6, 6]             128\n",
      "             ReLU-14             [-1, 64, 6, 6]               0\n",
      "           Conv2d-15             [-1, 64, 6, 6]          36,864\n",
      "      BatchNorm2d-16             [-1, 64, 6, 6]             128\n",
      "             ReLU-17             [-1, 64, 6, 6]               0\n",
      "       BasicBlock-18             [-1, 64, 6, 6]               0\n",
      "           Conv2d-19            [-1, 128, 3, 3]          73,728\n",
      "      BatchNorm2d-20            [-1, 128, 3, 3]             256\n",
      "             ReLU-21            [-1, 128, 3, 3]               0\n",
      "           Conv2d-22            [-1, 128, 3, 3]         147,456\n",
      "      BatchNorm2d-23            [-1, 128, 3, 3]             256\n",
      "           Conv2d-24            [-1, 128, 3, 3]           8,192\n",
      "      BatchNorm2d-25            [-1, 128, 3, 3]             256\n",
      "             ReLU-26            [-1, 128, 3, 3]               0\n",
      "       BasicBlock-27            [-1, 128, 3, 3]               0\n",
      "           Conv2d-28            [-1, 128, 3, 3]         147,456\n",
      "      BatchNorm2d-29            [-1, 128, 3, 3]             256\n",
      "             ReLU-30            [-1, 128, 3, 3]               0\n",
      "           Conv2d-31            [-1, 128, 3, 3]         147,456\n",
      "      BatchNorm2d-32            [-1, 128, 3, 3]             256\n",
      "             ReLU-33            [-1, 128, 3, 3]               0\n",
      "       BasicBlock-34            [-1, 128, 3, 3]               0\n",
      "           Conv2d-35            [-1, 256, 2, 2]         294,912\n",
      "      BatchNorm2d-36            [-1, 256, 2, 2]             512\n",
      "             ReLU-37            [-1, 256, 2, 2]               0\n",
      "           Conv2d-38            [-1, 256, 2, 2]         589,824\n",
      "      BatchNorm2d-39            [-1, 256, 2, 2]             512\n",
      "           Conv2d-40            [-1, 256, 2, 2]          32,768\n",
      "      BatchNorm2d-41            [-1, 256, 2, 2]             512\n",
      "             ReLU-42            [-1, 256, 2, 2]               0\n",
      "       BasicBlock-43            [-1, 256, 2, 2]               0\n",
      "           Conv2d-44            [-1, 256, 2, 2]         589,824\n",
      "      BatchNorm2d-45            [-1, 256, 2, 2]             512\n",
      "             ReLU-46            [-1, 256, 2, 2]               0\n",
      "           Conv2d-47            [-1, 256, 2, 2]         589,824\n",
      "      BatchNorm2d-48            [-1, 256, 2, 2]             512\n",
      "             ReLU-49            [-1, 256, 2, 2]               0\n",
      "       BasicBlock-50            [-1, 256, 2, 2]               0\n",
      "           Conv2d-51            [-1, 512, 1, 1]       1,179,648\n",
      "      BatchNorm2d-52            [-1, 512, 1, 1]           1,024\n",
      "             ReLU-53            [-1, 512, 1, 1]               0\n",
      "           Conv2d-54            [-1, 512, 1, 1]       2,359,296\n",
      "      BatchNorm2d-55            [-1, 512, 1, 1]           1,024\n",
      "           Conv2d-56            [-1, 512, 1, 1]         131,072\n",
      "      BatchNorm2d-57            [-1, 512, 1, 1]           1,024\n",
      "             ReLU-58            [-1, 512, 1, 1]               0\n",
      "       BasicBlock-59            [-1, 512, 1, 1]               0\n",
      "           Conv2d-60            [-1, 512, 1, 1]       2,359,296\n",
      "      BatchNorm2d-61            [-1, 512, 1, 1]           1,024\n",
      "             ReLU-62            [-1, 512, 1, 1]               0\n",
      "           Conv2d-63            [-1, 512, 1, 1]       2,359,296\n",
      "      BatchNorm2d-64            [-1, 512, 1, 1]           1,024\n",
      "             ReLU-65            [-1, 512, 1, 1]               0\n",
      "       BasicBlock-66            [-1, 512, 1, 1]               0\n",
      "AdaptiveAvgPool2d-67            [-1, 512, 1, 1]               0\n",
      "           Linear-68                    [-1, 2]           1,026\n",
      "================================================================\n",
      "Total params: 11,177,538\n",
      "Trainable params: 11,177,538\n",
      "Non-trainable params: 0\n",
      "----------------------------------------------------------------\n",
      "Input size (MB): 0.01\n",
      "Forward/backward pass size (MB): 0.81\n",
      "Params size (MB): 42.64\n",
      "Estimated Total Size (MB): 43.45\n",
      "----------------------------------------------------------------\n"
     ]
    }
   ],
   "source": [
    "summary(resnet18, (3, 24, 24))"
   ]
  },
  {
   "cell_type": "code",
   "execution_count": 26,
   "id": "16da7b1a",
   "metadata": {},
   "outputs": [],
   "source": [
    "resnet18 = resnet18.to(device)"
   ]
  },
  {
   "cell_type": "code",
   "execution_count": 27,
   "id": "1eae90a7",
   "metadata": {},
   "outputs": [],
   "source": [
    "loss_func = nn.BCEWithLogitsLoss()\n",
    "opt = optim.Adam(resnet18.parameters(), lr=3e-4)\n",
    "scheduler = torch.optim.lr_scheduler.ExponentialLR(opt, gamma = 0.95)"
   ]
  },
  {
   "cell_type": "code",
   "execution_count": null,
   "id": "13193110",
   "metadata": {},
   "outputs": [],
   "source": [
    "train_val_loop()"
   ]
  },
  {
   "cell_type": "code",
   "execution_count": 43,
   "id": "f3b30152",
   "metadata": {},
   "outputs": [],
   "source": [
    "# пробный вариант запуска обучения модели"
   ]
  },
  {
   "cell_type": "code",
   "execution_count": 28,
   "id": "0bd3c98f",
   "metadata": {
    "scrolled": true
   },
   "outputs": [
    {
     "name": "stderr",
     "output_type": "stream",
     "text": [
      "Epoch 2:   0%|                                                                                 | 0/200 [00:00<?, ?it/s]"
     ]
    },
    {
     "name": "stdout",
     "output_type": "stream",
     "text": [
      "Save best model(Epoch: 1)\n",
      "Epoch: 1, Training Loss: 0.01765851942539405, Validation Loss: 0.004726948189494933\n",
      "---------  Training accuracy: 0.88125, Validation accuracy: 0.945\n"
     ]
    },
    {
     "name": "stderr",
     "output_type": "stream",
     "text": [
      "Epoch 3:   0%|                                                                                 | 0/200 [00:00<?, ?it/s]"
     ]
    },
    {
     "name": "stdout",
     "output_type": "stream",
     "text": [
      "Epoch: 2, Training Loss: 0.010244773649923782, Validation Loss: 0.006788203853943428\n",
      "---------  Training accuracy: 0.9309375, Validation accuracy: 0.92375\n"
     ]
    },
    {
     "name": "stderr",
     "output_type": "stream",
     "text": [
      "Epoch 4:   0%|                                                                                 | 0/200 [00:00<?, ?it/s]"
     ]
    },
    {
     "name": "stdout",
     "output_type": "stream",
     "text": [
      "Epoch: 3, Training Loss: 0.009638401043344628, Validation Loss: 0.004933144911540075\n",
      "---------  Training accuracy: 0.9396875, Validation accuracy: 0.93625\n"
     ]
    },
    {
     "name": "stderr",
     "output_type": "stream",
     "text": [
      "Epoch 5:   0%|                                                                                 | 0/200 [00:00<?, ?it/s]"
     ]
    },
    {
     "name": "stdout",
     "output_type": "stream",
     "text": [
      "Save best model(Epoch: 4)\n",
      "Epoch: 4, Training Loss: 0.010236739519308667, Validation Loss: 0.004092359955365859\n",
      "---------  Training accuracy: 0.9378125, Validation accuracy: 0.9575\n"
     ]
    },
    {
     "name": "stderr",
     "output_type": "stream",
     "text": [
      "Epoch 6:   0%|                                                                                 | 0/200 [00:00<?, ?it/s]"
     ]
    },
    {
     "name": "stdout",
     "output_type": "stream",
     "text": [
      "Save best model(Epoch: 5)\n",
      "Epoch: 5, Training Loss: 0.0075546208258143325, Validation Loss: 0.003931243154768137\n",
      "---------  Training accuracy: 0.953125, Validation accuracy: 0.9525\n"
     ]
    },
    {
     "name": "stderr",
     "output_type": "stream",
     "text": [
      "Epoch 7:   0%|                                                                                 | 0/200 [00:00<?, ?it/s]"
     ]
    },
    {
     "name": "stdout",
     "output_type": "stream",
     "text": [
      "Save best model(Epoch: 6)\n",
      "Epoch: 6, Training Loss: 0.006777471633780543, Validation Loss: 0.0035632034363493738\n",
      "---------  Training accuracy: 0.958125, Validation accuracy: 0.955\n"
     ]
    },
    {
     "name": "stderr",
     "output_type": "stream",
     "text": [
      "Epoch 8:   0%|                                                                                 | 0/200 [00:00<?, ?it/s]"
     ]
    },
    {
     "name": "stdout",
     "output_type": "stream",
     "text": [
      "Save best model(Epoch: 7)\n",
      "Epoch: 7, Training Loss: 0.006509361999498629, Validation Loss: 0.003522090439608897\n",
      "---------  Training accuracy: 0.96, Validation accuracy: 0.96\n"
     ]
    },
    {
     "name": "stderr",
     "output_type": "stream",
     "text": [
      "Epoch 9:   0%|                                                                                 | 0/200 [00:00<?, ?it/s]"
     ]
    },
    {
     "name": "stdout",
     "output_type": "stream",
     "text": [
      "Save best model(Epoch: 8)\n",
      "Epoch: 8, Training Loss: 0.00555586932721539, Validation Loss: 0.0033874131426562576\n",
      "---------  Training accuracy: 0.963125, Validation accuracy: 0.9625\n"
     ]
    },
    {
     "name": "stderr",
     "output_type": "stream",
     "text": [
      "Epoch 10:   0%|                                                                                | 0/200 [00:00<?, ?it/s]"
     ]
    },
    {
     "name": "stdout",
     "output_type": "stream",
     "text": [
      "Epoch: 9, Training Loss: 0.0055457294814747135, Validation Loss: 0.0038382454392846778\n",
      "---------  Training accuracy: 0.9646875, Validation accuracy: 0.95875\n"
     ]
    },
    {
     "name": "stderr",
     "output_type": "stream",
     "text": [
      "Epoch 11:   0%|                                                                                | 0/200 [00:00<?, ?it/s]"
     ]
    },
    {
     "name": "stdout",
     "output_type": "stream",
     "text": [
      "Epoch: 10, Training Loss: 0.004922399159401424, Validation Loss: 0.0041038594832124055\n",
      "---------  Training accuracy: 0.9703125, Validation accuracy: 0.955\n"
     ]
    },
    {
     "name": "stderr",
     "output_type": "stream",
     "text": [
      "Epoch 12:   0%|                                                                                | 0/200 [00:00<?, ?it/s]"
     ]
    },
    {
     "name": "stdout",
     "output_type": "stream",
     "text": [
      "Save best model(Epoch: 11)\n",
      "Epoch: 11, Training Loss: 0.004951559335563731, Validation Loss: 0.0033177882449720118\n",
      "---------  Training accuracy: 0.97, Validation accuracy: 0.96125\n"
     ]
    },
    {
     "name": "stderr",
     "output_type": "stream",
     "text": [
      "Epoch 13:   0%|                                                                                | 0/200 [00:00<?, ?it/s]"
     ]
    },
    {
     "name": "stdout",
     "output_type": "stream",
     "text": [
      "Epoch: 12, Training Loss: 0.0046032237595379335, Validation Loss: 0.0035223931325874475\n",
      "---------  Training accuracy: 0.9725, Validation accuracy: 0.96125\n"
     ]
    },
    {
     "name": "stderr",
     "output_type": "stream",
     "text": [
      "Epoch 14:   0%|                                                                                | 0/200 [00:00<?, ?it/s]"
     ]
    },
    {
     "name": "stdout",
     "output_type": "stream",
     "text": [
      "Epoch: 13, Training Loss: 0.0036354575723654536, Validation Loss: 0.003431068681476648\n",
      "---------  Training accuracy: 0.976875, Validation accuracy: 0.95875\n"
     ]
    },
    {
     "name": "stderr",
     "output_type": "stream",
     "text": [
      "Epoch 15:   0%|                                                                                | 0/200 [00:00<?, ?it/s]"
     ]
    },
    {
     "name": "stdout",
     "output_type": "stream",
     "text": [
      "Epoch: 14, Training Loss: 0.003743960883625551, Validation Loss: 0.003387840724031082\n",
      "---------  Training accuracy: 0.975, Validation accuracy: 0.95875\n"
     ]
    },
    {
     "name": "stderr",
     "output_type": "stream",
     "text": [
      "Epoch 16:   0%|                                                                                | 0/200 [00:00<?, ?it/s]"
     ]
    },
    {
     "name": "stdout",
     "output_type": "stream",
     "text": [
      "Save best model(Epoch: 15)\n",
      "Epoch: 15, Training Loss: 0.0031646881536767976, Validation Loss: 0.0030340213976541297\n",
      "---------  Training accuracy: 0.98, Validation accuracy: 0.96625\n"
     ]
    },
    {
     "name": "stderr",
     "output_type": "stream",
     "text": [
      "Epoch 17:   0%|                                                                                | 0/200 [00:00<?, ?it/s]"
     ]
    },
    {
     "name": "stdout",
     "output_type": "stream",
     "text": [
      "Epoch: 16, Training Loss: 0.0027903193992965874, Validation Loss: 0.003891082997175144\n",
      "---------  Training accuracy: 0.98125, Validation accuracy: 0.955\n"
     ]
    },
    {
     "name": "stderr",
     "output_type": "stream",
     "text": [
      "Epoch 18:   0%|                                                                                | 0/200 [00:00<?, ?it/s]"
     ]
    },
    {
     "name": "stdout",
     "output_type": "stream",
     "text": [
      "Epoch: 17, Training Loss: 0.0030538333990103787, Validation Loss: 0.0036373507933955117\n",
      "---------  Training accuracy: 0.983125, Validation accuracy: 0.9575\n"
     ]
    },
    {
     "name": "stderr",
     "output_type": "stream",
     "text": [
      "Epoch 19:   0%|                                                                                | 0/200 [00:00<?, ?it/s]"
     ]
    },
    {
     "name": "stdout",
     "output_type": "stream",
     "text": [
      "Epoch: 18, Training Loss: 0.0022262359402704, Validation Loss: 0.0035774117031868212\n",
      "---------  Training accuracy: 0.98875, Validation accuracy: 0.95625\n"
     ]
    },
    {
     "name": "stderr",
     "output_type": "stream",
     "text": [
      "Epoch 20:   0%|                                                                                | 0/200 [00:00<?, ?it/s]"
     ]
    },
    {
     "name": "stdout",
     "output_type": "stream",
     "text": [
      "Epoch: 19, Training Loss: 0.0020892728473966365, Validation Loss: 0.003745016258609306\n",
      "---------  Training accuracy: 0.9871875, Validation accuracy: 0.955\n"
     ]
    },
    {
     "name": "stderr",
     "output_type": "stream",
     "text": [
      "Epoch 21:   0%|                                                                                | 0/200 [00:00<?, ?it/s]"
     ]
    },
    {
     "name": "stdout",
     "output_type": "stream",
     "text": [
      "Epoch: 20, Training Loss: 0.0025490537475790723, Validation Loss: 0.0038509585429725214\n",
      "---------  Training accuracy: 0.988125, Validation accuracy: 0.96625\n"
     ]
    },
    {
     "name": "stderr",
     "output_type": "stream",
     "text": [
      "Epoch 22:   0%|                                                                                | 0/200 [00:00<?, ?it/s]"
     ]
    },
    {
     "name": "stdout",
     "output_type": "stream",
     "text": [
      "Epoch: 21, Training Loss: 0.001791183302283575, Validation Loss: 0.0034870582216938156\n",
      "---------  Training accuracy: 0.990625, Validation accuracy: 0.96\n"
     ]
    },
    {
     "name": "stderr",
     "output_type": "stream",
     "text": [
      "Epoch 23:   0%|                                                                                | 0/200 [00:00<?, ?it/s]"
     ]
    },
    {
     "name": "stdout",
     "output_type": "stream",
     "text": [
      "Epoch: 22, Training Loss: 0.001156811286463943, Validation Loss: 0.0034036132113669337\n",
      "---------  Training accuracy: 0.9934375, Validation accuracy: 0.95875\n"
     ]
    },
    {
     "name": "stderr",
     "output_type": "stream",
     "text": [
      "Epoch 24:   0%|                                                                                | 0/200 [00:00<?, ?it/s]"
     ]
    },
    {
     "name": "stdout",
     "output_type": "stream",
     "text": [
      "Epoch: 23, Training Loss: 0.002004786509923295, Validation Loss: 0.003527071554009944\n",
      "---------  Training accuracy: 0.9903125, Validation accuracy: 0.96\n"
     ]
    },
    {
     "name": "stderr",
     "output_type": "stream",
     "text": [
      "Epoch 25:   0%|                                                                                | 0/200 [00:00<?, ?it/s]"
     ]
    },
    {
     "name": "stdout",
     "output_type": "stream",
     "text": [
      "Epoch: 24, Training Loss: 0.0011206526456300464, Validation Loss: 0.004870065511890582\n",
      "---------  Training accuracy: 0.9940625, Validation accuracy: 0.9625\n"
     ]
    },
    {
     "name": "stderr",
     "output_type": "stream",
     "text": [
      "Epoch 26:   0%|                                                                                | 0/200 [00:00<?, ?it/s]"
     ]
    },
    {
     "name": "stdout",
     "output_type": "stream",
     "text": [
      "Epoch: 25, Training Loss: 0.001258653486024293, Validation Loss: 0.003690865575266962\n",
      "---------  Training accuracy: 0.99375, Validation accuracy: 0.96375\n"
     ]
    },
    {
     "name": "stderr",
     "output_type": "stream",
     "text": [
      "Epoch 27:   0%|                                                                                | 0/200 [00:00<?, ?it/s]"
     ]
    },
    {
     "name": "stdout",
     "output_type": "stream",
     "text": [
      "Epoch: 26, Training Loss: 0.0012563715830841925, Validation Loss: 0.003653330006362001\n",
      "---------  Training accuracy: 0.9946875, Validation accuracy: 0.96125\n"
     ]
    },
    {
     "name": "stderr",
     "output_type": "stream",
     "text": [
      "Epoch 28:   0%|                                                                                | 0/200 [00:00<?, ?it/s]"
     ]
    },
    {
     "name": "stdout",
     "output_type": "stream",
     "text": [
      "Epoch: 27, Training Loss: 0.0020272553343960746, Validation Loss: 0.0043544202956793555\n",
      "---------  Training accuracy: 0.9928125, Validation accuracy: 0.95875\n"
     ]
    },
    {
     "name": "stderr",
     "output_type": "stream",
     "text": [
      "Epoch 29:   0%|                                                                                | 0/200 [00:00<?, ?it/s]"
     ]
    },
    {
     "name": "stdout",
     "output_type": "stream",
     "text": [
      "Epoch: 28, Training Loss: 0.0008600101620928768, Validation Loss: 0.004210019998664098\n",
      "---------  Training accuracy: 0.995625, Validation accuracy: 0.95625\n"
     ]
    },
    {
     "name": "stderr",
     "output_type": "stream",
     "text": [
      "Epoch 30:   0%|                                                                                | 0/200 [00:00<?, ?it/s]"
     ]
    },
    {
     "name": "stdout",
     "output_type": "stream",
     "text": [
      "Epoch: 29, Training Loss: 0.0008652746418778591, Validation Loss: 0.0040117483097311425\n",
      "---------  Training accuracy: 0.994375, Validation accuracy: 0.95625\n"
     ]
    },
    {
     "name": "stderr",
     "output_type": "stream",
     "text": [
      "Epoch 31:   0%|                                                                                | 0/200 [00:00<?, ?it/s]"
     ]
    },
    {
     "name": "stdout",
     "output_type": "stream",
     "text": [
      "Epoch: 30, Training Loss: 0.0006286476058505973, Validation Loss: 0.0038958404486082675\n",
      "---------  Training accuracy: 0.9971875, Validation accuracy: 0.96625\n"
     ]
    },
    {
     "name": "stderr",
     "output_type": "stream",
     "text": [
      "Epoch 32:   0%|                                                                                | 0/200 [00:00<?, ?it/s]"
     ]
    },
    {
     "name": "stdout",
     "output_type": "stream",
     "text": [
      "Epoch: 31, Training Loss: 0.00045219121556874185, Validation Loss: 0.004074885005142626\n",
      "---------  Training accuracy: 0.9975, Validation accuracy: 0.95875\n"
     ]
    },
    {
     "name": "stderr",
     "output_type": "stream",
     "text": [
      "Epoch 33:   0%|                                                                                | 0/200 [00:00<?, ?it/s]"
     ]
    },
    {
     "name": "stdout",
     "output_type": "stream",
     "text": [
      "Epoch: 32, Training Loss: 0.00039788336958067756, Validation Loss: 0.004086722821759148\n",
      "---------  Training accuracy: 0.9978125, Validation accuracy: 0.96625\n"
     ]
    },
    {
     "name": "stderr",
     "output_type": "stream",
     "text": [
      "Epoch 34:   0%|                                                                                | 0/200 [00:00<?, ?it/s]"
     ]
    },
    {
     "name": "stdout",
     "output_type": "stream",
     "text": [
      "Epoch: 33, Training Loss: 0.0006537447958693182, Validation Loss: 0.003648294648646496\n",
      "---------  Training accuracy: 0.99625, Validation accuracy: 0.96625\n"
     ]
    },
    {
     "name": "stderr",
     "output_type": "stream",
     "text": [
      "Epoch 35:   0%|                                                                                | 0/200 [00:00<?, ?it/s]"
     ]
    },
    {
     "name": "stdout",
     "output_type": "stream",
     "text": [
      "Epoch: 34, Training Loss: 0.0002942498244712669, Validation Loss: 0.003959665362218678\n",
      "---------  Training accuracy: 0.9990625, Validation accuracy: 0.96\n"
     ]
    },
    {
     "name": "stderr",
     "output_type": "stream",
     "text": [
      "Epoch 36:   0%|                                                                                | 0/200 [00:00<?, ?it/s]"
     ]
    },
    {
     "name": "stdout",
     "output_type": "stream",
     "text": [
      "Epoch: 35, Training Loss: 0.0002797857658167202, Validation Loss: 0.004565225320765824\n",
      "---------  Training accuracy: 0.9984375, Validation accuracy: 0.9625\n"
     ]
    },
    {
     "name": "stderr",
     "output_type": "stream",
     "text": [
      "Epoch 37:   0%|                                                                                | 0/200 [00:00<?, ?it/s]"
     ]
    },
    {
     "name": "stdout",
     "output_type": "stream",
     "text": [
      "Epoch: 36, Training Loss: 0.0004627749562921597, Validation Loss: 0.004551021455101472\n",
      "---------  Training accuracy: 0.9965625, Validation accuracy: 0.96125\n"
     ]
    },
    {
     "name": "stderr",
     "output_type": "stream",
     "text": [
      "Epoch 38:   0%|                                                                                | 0/200 [00:00<?, ?it/s]"
     ]
    },
    {
     "name": "stdout",
     "output_type": "stream",
     "text": [
      "Epoch: 37, Training Loss: 0.0005208791631336507, Validation Loss: 0.004587244013352449\n",
      "---------  Training accuracy: 0.9975, Validation accuracy: 0.96\n"
     ]
    },
    {
     "name": "stderr",
     "output_type": "stream",
     "text": [
      "                                                                                                                       \r"
     ]
    }
   ],
   "source": [
    "train_loss_history, val_loss_history, train_metrics_history, val_metrics_history, resnet18 =\\\n",
    "    train_val_loop(resnet18,\n",
    "                   opt,\n",
    "                   loss_func,\n",
    "                   train_dataloader,\n",
    "                   val_dataloader,\n",
    "                   device=device,\n",
    "                   metrics={\"accuracy\": calculate_accuracy, \"equal_error_rate\": calculate_equal_error_rate},\n",
    "                   logits=True,\n",
    "                   lr_scheduler=scheduler,\n",
    "                   max_epochs=60,\n",
    "                   patience=30\n",
    "                  )"
   ]
  },
  {
   "cell_type": "code",
   "execution_count": 29,
   "id": "4e4a6298",
   "metadata": {},
   "outputs": [
    {
     "data": {
      "image/png": "[encoded data removed]",
      "text/plain": [
       "<Figure size 720x1080 with 3 Axes>"
      ]
     },
     "metadata": {
      "needs_background": "light"
     },
     "output_type": "display_data"
    }
   ],
   "source": [
    "plot_loss_metrics_history(train_loss_history,  val_loss_history, train_metrics_history, val_metrics_history)\n",
    "plt.savefig((os.path.join(PLOTS_SAVE, \"train_val_loss_metrics_history.png\")))"
   ]
  },
  {
   "cell_type": "code",
   "execution_count": 34,
   "id": "c870eafc",
   "metadata": {},
   "outputs": [],
   "source": [
    "# сохраним веса модели\n",
    "torch.save(resnet18.state_dict(), os.path.join(MODEL_SAVE, \"custom_resnet18.pt\"))"
   ]
  },
  {
   "cell_type": "code",
   "execution_count": null,
   "id": "fc34c527",
   "metadata": {},
   "outputs": [],
   "source": []
  },
  {
   "cell_type": "code",
   "execution_count": null,
   "id": "3eccae04",
   "metadata": {},
   "outputs": [],
   "source": []
  },
  {
   "cell_type": "code",
   "execution_count": null,
   "id": "1a3a8cc5",
   "metadata": {},
   "outputs": [],
   "source": []
  },
  {
   "cell_type": "code",
   "execution_count": null,
   "id": "93f6071e",
   "metadata": {},
   "outputs": [],
   "source": []
  }
 ],
 "metadata": {
  "kernelspec": {
   "display_name": "Python 3",
   "language": "python",
   "name": "python3"
  },
  "language_info": {
   "codemirror_mode": {
    "name": "ipython",
    "version": 3
   },
   "file_extension": ".py",
   "mimetype": "text/x-python",
   "name": "python",
   "nbconvert_exporter": "python",
   "pygments_lexer": "ipython3",
   "version": "3.9.3"
  }
 },
 "nbformat": 4,
 "nbformat_minor": 5
}
